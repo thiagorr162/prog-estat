{
 "cells": [
  {
   "cell_type": "code",
   "execution_count": null,
   "id": "91b5fbab-4e31-4af3-b91d-d3773d8288fe",
   "metadata": {
    "scrolled": true
   },
   "outputs": [],
   "source": [
    "import numpy as np\n",
    "import matplotlib.pyplot as plt\n",
    "\n",
    "d = 10\n",
    "\n",
    "amostra = []\n",
    "\n",
    "while len(amostra) < 500:\n",
    "    x = np.random.normal(0, 1, d)\n",
    "    if np.linalg.norm(x) <= 1:\n",
    "        amostra.append(x)\n",
    "        print(len(amostra))\n",
    "\n",
    "norms = [np.linalg.norm(x) for x in amostra]\n",
    "\n",
    "plt.hist(norms, bins=30)\n",
    "plt.xlim(0, 1)\n",
    "plt.xlabel('Norma')\n",
    "plt.ylabel('Frequência')\n",
    "plt.title('Distribuição das Normas da Amostra')\n",
    "plt.show()"
   ]
  },
  {
   "cell_type": "code",
   "execution_count": null,
   "id": "8cbddaf3-fe9b-478f-87e8-645a42a30138",
   "metadata": {},
   "outputs": [],
   "source": []
  }
 ],
 "metadata": {
  "kernelspec": {
   "display_name": "Python 3 (ipykernel)",
   "language": "python",
   "name": "python3"
  },
  "language_info": {
   "codemirror_mode": {
    "name": "ipython",
    "version": 3
   },
   "file_extension": ".py",
   "mimetype": "text/x-python",
   "name": "python",
   "nbconvert_exporter": "python",
   "pygments_lexer": "ipython3",
   "version": "3.10.12"
  }
 },
 "nbformat": 4,
 "nbformat_minor": 5
}
