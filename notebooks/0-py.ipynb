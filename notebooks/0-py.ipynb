{
 "cells": [
  {
   "cell_type": "markdown",
   "id": "e926f27d-ee18-466a-8b1e-3505acb34824",
   "metadata": {},
   "source": [
    "---\n",
    "title: \"Breve introdução ao Python\"\n",
    "---"
   ]
  },
  {
   "cell_type": "markdown",
   "id": "07a1d82d-266e-43f1-8ae4-39eccdd76a64",
   "metadata": {},
   "source": [
    "Aqui faremos uma breve introdução ao Python. Para uma introdução mais detalhada, você pode explorar:\n",
    "- [Documentação Oficial do Python](https://docs.python.org/3/)\n",
    "- [Real Python](https://realpython.com/)\n",
    "\n"
   ]
  },
  {
   "cell_type": "markdown",
   "id": "11640b4e-0db6-424f-ba08-cf1babfb1b6d",
   "metadata": {},
   "source": [
    "## Variáveis e Tipos de Dados \n",
    "\n",
    "Em Python, variáveis são usadas para armazenar informações que podem ser manipuladas ao longo do código. Existem diferentes tipos de dados que podem ser atribuídos a uma variável. Vamos explorar os principais tipos básicos em Python: `int`, `float`, `str`, `bool`, e `None`.\n"
   ]
  },
  {
   "cell_type": "code",
   "execution_count": 30,
   "id": "0a573f36-a0b9-449c-9c69-53c5e8119364",
   "metadata": {},
   "outputs": [
    {
     "name": "stdout",
     "output_type": "stream",
     "text": [
      "Nome: Thiago (Tipo: <class 'str'>)\n",
      "Idade: 35 (Tipo: <class 'int'>)\n",
      "Saldo Bancário: 1023.75 (Tipo: <class 'float'>)\n",
      "Estudante: True (Tipo: <class 'bool'>)\n",
      "Endereço: None (Tipo: <class 'NoneType'>)\n"
     ]
    }
   ],
   "source": [
    "# Exemplo de variáveis e tipos de dados\n",
    "nome = \"Thiago\"              # String\n",
    "idade = 35                   # Inteiro (int)\n",
    "saldo_bancario = 1023.75      # Float\n",
    "estudante = True              # Booleano (bool)\n",
    "endereco = None               # None, indicando ausência de valor\n",
    "\n",
    "# Usando o método .format() para formatar a string\n",
    "print(\"Nome: {} (Tipo: {})\".format(nome, type(nome)))\n",
    "print(\"Idade: {} (Tipo: {})\".format(idade, type(idade)))\n",
    "print(\"Saldo Bancário: {} (Tipo: {})\".format(saldo_bancario, type(saldo_bancario)))\n",
    "print(\"Estudante: {} (Tipo: {})\".format(estudante, type(estudante)))\n",
    "print(\"Endereço: {} (Tipo: {})\".format(endereco, type(endereco)))\n"
   ]
  },
  {
   "cell_type": "markdown",
   "id": "45f10e21-d057-4568-ac44-4068e1427ba2",
   "metadata": {},
   "source": [
    "### f-strings: Formatação de Strings em Python (*)\n",
    "\n",
    "Introduzidas na versão Python 3.6, as f-strings (ou \"formatted string literals\") são uma forma eficiente e legível de formatar strings, permitindo a inclusão de expressões e variáveis diretamente dentro de uma string.\n",
    "\n",
    "A sintaxe das f-strings utiliza a letra f antes da string e permite a inclusão de expressões dentro de chaves {}. Essas expressões são avaliadas em tempo de execução, e seus resultados são inseridos na string."
   ]
  },
  {
   "cell_type": "code",
   "execution_count": 31,
   "id": "2e075c54-29d7-4aac-bb85-16e9db0a6d8e",
   "metadata": {},
   "outputs": [
    {
     "name": "stdout",
     "output_type": "stream",
     "text": [
      "Nome: Thiago (Tipo: <class 'str'>)\n",
      "Idade: 35 (Tipo: <class 'int'>)\n",
      "Saldo Bancário: 1023.75 (Tipo: <class 'float'>)\n",
      "Estudante: True (Tipo: <class 'bool'>)\n",
      "Endereço: None (Tipo: <class 'NoneType'>)\n"
     ]
    }
   ],
   "source": [
    "# Usando f-strings para formatar a string\n",
    "print(f\"Nome: {nome} (Tipo: {type(nome)})\")\n",
    "print(f\"Idade: {idade} (Tipo: {type(idade)})\")\n",
    "print(f\"Saldo Bancário: {saldo_bancario} (Tipo: {type(saldo_bancario)})\")\n",
    "print(f\"Estudante: {estudante} (Tipo: {type(estudante)})\")\n",
    "print(f\"Endereço: {endereco} (Tipo: {type(endereco)})\")"
   ]
  },
  {
   "cell_type": "markdown",
   "id": "4d6cd4a8-6821-464a-94b5-31f511569bae",
   "metadata": {
    "jp-MarkdownHeadingCollapsed": true
   },
   "source": [
    "## O Comando help() em Python\n",
    "\n",
    "Python possui uma função embutida chamada help(), que é muito útil para obter informações sobre funções, módulos, objetos, e classes. Ele fornece uma explicação detalhada de como determinado elemento funciona, quais parâmetros aceita e o que retorna, entre outros detalhes. Essa função é especialmente útil quando você está começando ou precisa de uma rápida referência sem ter que sair do ambiente de desenvolvimento."
   ]
  },
  {
   "cell_type": "code",
   "execution_count": 5,
   "id": "6646ba31-b21f-407c-a06a-6d50dfb54681",
   "metadata": {},
   "outputs": [
    {
     "name": "stdout",
     "output_type": "stream",
     "text": [
      "Help on built-in function len in module builtins:\n",
      "\n",
      "len(obj, /)\n",
      "    Return the number of items in a container.\n",
      "\n"
     ]
    }
   ],
   "source": [
    "help(len)"
   ]
  },
  {
   "cell_type": "code",
   "execution_count": 7,
   "id": "9e082c8c-593d-4f5d-926a-5e7ba8665796",
   "metadata": {},
   "outputs": [
    {
     "name": "stdout",
     "output_type": "stream",
     "text": [
      "Help on function exemplo in module __main__:\n",
      "\n",
      "exemplo()\n",
      "    Esta é uma função de exemplo.\n",
      "\n"
     ]
    }
   ],
   "source": [
    "def exemplo():\n",
    "    \"\"\"Esta é uma função de exemplo.\"\"\"\n",
    "    pass\n",
    "\n",
    "help(exemplo)"
   ]
  },
  {
   "cell_type": "markdown",
   "id": "0d1bac77-ff9e-415a-b11c-4d06ea2c4472",
   "metadata": {},
   "source": [
    "## Armazenando Resultados em Variáveis\n",
    "\n",
    "Em Python, as variáveis são usadas para armazenar resultados de cálculos ou operações para uso posterior no código. Ao armazenar um valor em uma variável, você pode acessá-lo facilmente quando precisar, sem ter que repetir o cálculo ou operação.\n",
    "\n",
    "Quando você atribui um valor ou resultado de uma operação a uma variável, o Python guarda esse valor na memória e o associa ao nome que você escolheu para a variável. Isso permite que você reutilize o valor sempre que necessário."
   ]
  },
  {
   "cell_type": "code",
   "execution_count": 8,
   "id": "1c798023-b0df-4ba6-bf50-03e37ebc491c",
   "metadata": {},
   "outputs": [
    {
     "name": "stdout",
     "output_type": "stream",
     "text": [
      "8\n"
     ]
    }
   ],
   "source": [
    "resultado = 5 + 3  # Armazenando a soma de 5 e 3 em uma variável\n",
    "print(resultado)    # Resultado: 8\n"
   ]
  },
  {
   "cell_type": "code",
   "execution_count": 10,
   "id": "5c3dd5e3-307a-40fb-83ba-52e5a642cc56",
   "metadata": {},
   "outputs": [
    {
     "name": "stdout",
     "output_type": "stream",
     "text": [
      "5\n"
     ]
    }
   ],
   "source": [
    "x = 2 + 3\n",
    "print(x)"
   ]
  },
  {
   "cell_type": "code",
   "execution_count": 11,
   "id": "86773ebb-4b86-44d4-925f-80e264c7f3f2",
   "metadata": {},
   "outputs": [
    {
     "data": {
      "text/plain": [
       "10"
      ]
     },
     "execution_count": 11,
     "metadata": {},
     "output_type": "execute_result"
    }
   ],
   "source": [
    "y = 2 * x\n",
    "y"
   ]
  },
  {
   "cell_type": "markdown",
   "id": "02745c3a-c4a6-41ae-b1e4-2a872cc411b9",
   "metadata": {},
   "source": [
    "## Variáveis Lógicas\n",
    "\n",
    "Python, assim como R, possui operadores lógicos para comparar valores e trabalhar com variáveis booleanas. Abaixo estão alguns dos principais operadores lógicos usados em Python:\n",
    "\n",
    "| #  | Operador      | Descrição                                   |\n",
    "|----|---------------|---------------------------------------------|\n",
    "| 1  | `x < y`       | x é menor que y?                            |\n",
    "| 2  | `x <= y`      | x é menor ou igual a y?                     |\n",
    "| 3  | `x > y`       | x é maior que y?                            |\n",
    "| 4  | `x >= y`      | x é maior ou igual a y?                     |\n",
    "| 5  | `x == y`      | x é igual a y?                              |\n",
    "| 6  | `x != y`      | x é diferente de y?                         |\n",
    "| 7  | `not x`       | Negativa de x (inverte o valor lógico)       |\n",
    "| 8  | `x or y`      | x ou y são verdadeiros? (ou inclusivo)       |\n",
    "| 9  | `x and y`     | x e y são verdadeiros? (e lógico)            |\n",
    "| 10 | `x ^ y`       | x ou y, mas não ambos, são verdadeiros? (xor lógico) |\n"
   ]
  },
  {
   "cell_type": "code",
   "execution_count": 21,
   "id": "c453a476-95a2-438a-ab72-455182ea9c1e",
   "metadata": {},
   "outputs": [
    {
     "name": "stdout",
     "output_type": "stream",
     "text": [
      "True\n",
      "False\n"
     ]
    }
   ],
   "source": [
    "a = 5\n",
    "b = 10\n",
    "print(a < b)  # True\n",
    "print(a == b)  # False\n"
   ]
  },
  {
   "cell_type": "code",
   "execution_count": 22,
   "id": "58a45979-e494-4ad3-8798-c0e940018dee",
   "metadata": {},
   "outputs": [
    {
     "name": "stdout",
     "output_type": "stream",
     "text": [
      "False\n"
     ]
    }
   ],
   "source": [
    "x = True\n",
    "print(not x)  # False\n"
   ]
  },
  {
   "cell_type": "code",
   "execution_count": 23,
   "id": "168caa84-b6dd-4382-8d80-185481ee07a0",
   "metadata": {},
   "outputs": [
    {
     "name": "stdout",
     "output_type": "stream",
     "text": [
      "True\n"
     ]
    }
   ],
   "source": [
    "x = False\n",
    "y = True\n",
    "print(x or y)  # True\n"
   ]
  },
  {
   "cell_type": "code",
   "execution_count": 25,
   "id": "7217c5b1-3e8b-4aa0-a320-fd4e83245783",
   "metadata": {},
   "outputs": [
    {
     "name": "stdout",
     "output_type": "stream",
     "text": [
      "False\n"
     ]
    }
   ],
   "source": [
    "x = True\n",
    "y = False\n",
    "print(x and y)  # False\n"
   ]
  },
  {
   "cell_type": "code",
   "execution_count": 28,
   "id": "35d114f2-d625-4a12-a347-6a58181c5ca9",
   "metadata": {},
   "outputs": [
    {
     "name": "stdout",
     "output_type": "stream",
     "text": [
      "True\n"
     ]
    }
   ],
   "source": [
    "x = True\n",
    "y = False\n",
    "print(x ^ y)  # True (apenas um dos dois é verdadeiro)\n"
   ]
  },
  {
   "cell_type": "markdown",
   "id": "a894bf10-97a6-49b1-bee1-7233b5d3a7fe",
   "metadata": {},
   "source": [
    "### Cuidado!\n",
    "Em Python, o operador ^ não é usado para exponenciação. Em vez disso, ele é o operador bitwise XOR (ou exclusivo) para manipulação de bits.\n",
    "\n",
    "O operador XOR (ou exclusivo) compara os bits de dois números. Ele retorna 1 quando os bits são diferentes e 0 quando os bits são iguais."
   ]
  },
  {
   "cell_type": "code",
   "execution_count": 19,
   "id": "932aaa0e-5e3f-414b-b893-481be82e6f89",
   "metadata": {},
   "outputs": [
    {
     "name": "stdout",
     "output_type": "stream",
     "text": [
      "125\n"
     ]
    }
   ],
   "source": [
    "a = 5   # Em binário: 101\n",
    "b = 3   # Em binário: 011\n",
    "\n",
    "resultado = a ** b  # Faz XOR bit a bit\n",
    "\n",
    "print(resultado)  # Saída: 6 (Em binário: 110)"
   ]
  },
  {
   "cell_type": "code",
   "execution_count": 20,
   "id": "9935443a-b1cd-4583-8900-7b4cf344ab02",
   "metadata": {},
   "outputs": [
    {
     "name": "stdout",
     "output_type": "stream",
     "text": [
      "6\n"
     ]
    }
   ],
   "source": [
    "a = 5   # Em binário: 101\n",
    "b = 3   # Em binário: 011\n",
    "\n",
    "resultado = a ^ b  # Faz XOR bit a bit\n",
    "\n",
    "print(resultado)  # Saída: 6 (Em binário: 110)"
   ]
  },
  {
   "cell_type": "markdown",
   "id": "18a57fac-3479-48bf-96fa-c343da521d97",
   "metadata": {},
   "source": [
    "## Caracteres/Strings em Python\n",
    "\n",
    "Em Python, uma string é uma sequência de caracteres que pode ser usada para armazenar e manipular textos. Strings são um dos tipos de dados mais comuns e úteis, e Python oferece uma grande variedade de métodos e operações para trabalhar com elas.\n",
    "\n",
    "As strings em Python podem ser definidas de diferentes maneiras, usando aspas simples (') ou aspas duplas (\").\n"
   ]
  },
  {
   "cell_type": "code",
   "execution_count": 37,
   "id": "6fa35e6e-4c94-48bd-b382-46cad3de5570",
   "metadata": {},
   "outputs": [],
   "source": [
    "# Definindo strings\n",
    "nome = 'Thiago'\n",
    "cidade = \"São Carlos\""
   ]
  },
  {
   "cell_type": "markdown",
   "id": "ac4114d5-d2ed-45e8-a92a-283c2fc23d85",
   "metadata": {},
   "source": [
    "- Concatenar Strings: Você pode unir duas ou mais strings usando o operador +."
   ]
  },
  {
   "cell_type": "code",
   "execution_count": 38,
   "id": "aff721a6-76f2-4045-91c4-568b753c61d0",
   "metadata": {},
   "outputs": [
    {
     "name": "stdout",
     "output_type": "stream",
     "text": [
      "Thiago Rodrigo\n"
     ]
    }
   ],
   "source": [
    "# Concatenação\n",
    "nome_completo = \"Thiago\" + \" \" + \"Rodrigo\"\n",
    "print(nome_completo)  # Resultado: Thiago Rodrigo\n"
   ]
  },
  {
   "cell_type": "markdown",
   "id": "8bd69792-2a11-427e-b896-5bc98a5987a1",
   "metadata": {},
   "source": [
    "- Repetir Strings: Você pode repetir uma string múltiplas vezes usando o operador *."
   ]
  },
  {
   "cell_type": "code",
   "execution_count": 39,
   "id": "05563529-21c2-4791-b67d-5437da63bfd1",
   "metadata": {},
   "outputs": [
    {
     "name": "stdout",
     "output_type": "stream",
     "text": [
      "Oi! Oi! Oi! \n"
     ]
    }
   ],
   "source": [
    "repeticao = \"Oi! \" * 3\n",
    "print(repeticao)  # Resultado: Oi! Oi! Oi! \n"
   ]
  },
  {
   "cell_type": "markdown",
   "id": "314ce40f-11e2-4f23-b6f1-3762aea32640",
   "metadata": {},
   "source": [
    "- Acessar Caracteres por Índice: As strings em Python são indexadas, e você pode acessar um caractere específico usando o índice (começando em 0)."
   ]
  },
  {
   "cell_type": "code",
   "execution_count": 40,
   "id": "f97b18fd-8451-4d05-9b9c-32b7d52a23bd",
   "metadata": {},
   "outputs": [
    {
     "name": "stdout",
     "output_type": "stream",
     "text": [
      "T\n",
      "o\n"
     ]
    }
   ],
   "source": [
    "nome = \"Thiago\"\n",
    "print(nome[0])  # Resultado: T\n",
    "print(nome[-1])  # Resultado: o (último caractere)\n"
   ]
  },
  {
   "cell_type": "markdown",
   "id": "9d88005e-86b9-4450-ad08-477bd1f953a7",
   "metadata": {},
   "source": [
    "- Fatiar Strings (Slicing): Você pode pegar uma parte da string usando fatias (substrings)."
   ]
  },
  {
   "cell_type": "code",
   "execution_count": 41,
   "id": "72819cc0-4661-42d5-845e-6338f9d50c7e",
   "metadata": {},
   "outputs": [
    {
     "name": "stdout",
     "output_type": "stream",
     "text": [
      "Thi\n"
     ]
    }
   ],
   "source": [
    "nome = \"Thiago\"\n",
    "print(nome[0:3])  # Resultado: Thi (caracteres do índice 0 ao 2)\n"
   ]
  },
  {
   "cell_type": "markdown",
   "id": "06d464f1-035e-45b1-8540-48255fed5c3c",
   "metadata": {},
   "source": [
    "- Comprimento de Strings: Para saber quantos caracteres uma string tem, use a função len()."
   ]
  },
  {
   "cell_type": "code",
   "execution_count": 43,
   "id": "8a350a25-8bdd-448e-9435-29f6ea284c56",
   "metadata": {},
   "outputs": [
    {
     "name": "stdout",
     "output_type": "stream",
     "text": [
      "6\n"
     ]
    }
   ],
   "source": [
    "nome = \"Thiago\"\n",
    "print(len(nome))  # Resultado: 6"
   ]
  },
  {
   "cell_type": "markdown",
   "id": "cd1c0ae8-f338-4f6b-9eb1-6bb95c0ee00a",
   "metadata": {},
   "source": [
    "### Métodos Úteis para Strings"
   ]
  },
  {
   "cell_type": "markdown",
   "id": "612a118c-ccb8-412f-b74a-1e7ecda2d24c",
   "metadata": {},
   "source": [
    "- lower() e upper(): Convertem todas as letras para minúsculas ou maiúsculas, respectivamente."
   ]
  },
  {
   "cell_type": "code",
   "execution_count": 44,
   "id": "f37376b6-9ca0-43d6-b6cc-d8b21d8770f4",
   "metadata": {},
   "outputs": [
    {
     "name": "stdout",
     "output_type": "stream",
     "text": [
      "thiago\n",
      "THIAGO\n"
     ]
    }
   ],
   "source": [
    "nome = \"Thiago\"\n",
    "print(nome.lower())  # Resultado: thiago\n",
    "print(nome.upper())  # Resultado: THIAGO\n"
   ]
  },
  {
   "cell_type": "markdown",
   "id": "72e0f8ac-be79-47fa-a6ce-07cca08162c9",
   "metadata": {},
   "source": [
    "- strip(): Remove espaços em branco no início e no final da string."
   ]
  },
  {
   "cell_type": "code",
   "execution_count": 45,
   "id": "47f472f5-3106-4210-96b2-da237125f97c",
   "metadata": {},
   "outputs": [
    {
     "name": "stdout",
     "output_type": "stream",
     "text": [
      "Olá!\n"
     ]
    }
   ],
   "source": [
    "frase = \"   Olá!   \"\n",
    "print(frase.strip())  # Resultado: Olá!\n"
   ]
  },
  {
   "cell_type": "markdown",
   "id": "76bb3ded-f897-4b41-8b63-853a4d0bfe45",
   "metadata": {},
   "source": [
    "- replace(): Substitui parte de uma string por outra."
   ]
  },
  {
   "cell_type": "code",
   "execution_count": 47,
   "id": "cb4d3804-a920-4ef0-85d8-88ac4d817fe3",
   "metadata": {},
   "outputs": [
    {
     "name": "stdout",
     "output_type": "stream",
     "text": [
      "Eu gosto de Python\n"
     ]
    }
   ],
   "source": [
    "frase = \"Eu gosto de R\"\n",
    "nova_frase = frase.replace(\"R\", \"Python\")\n",
    "print(nova_frase)  # Resultado: Eu gosto de programação\n"
   ]
  },
  {
   "cell_type": "markdown",
   "id": "ef698d4d-9e25-4681-84f6-0689d54753e9",
   "metadata": {},
   "source": [
    "- split(): Divide uma string em uma lista, utilizando um delimitador (por padrão, espaço)."
   ]
  },
  {
   "cell_type": "code",
   "execution_count": 48,
   "id": "53e761e6-f994-4cad-8d7c-ee350cdbbaa9",
   "metadata": {},
   "outputs": [
    {
     "name": "stdout",
     "output_type": "stream",
     "text": [
      "['Eu', 'gosto', 'de', 'Python']\n"
     ]
    }
   ],
   "source": [
    "frase = \"Eu gosto de Python\"\n",
    "palavras = frase.split()\n",
    "print(palavras)  # Resultado: ['Eu', 'gosto', 'de', 'Python']\n"
   ]
  },
  {
   "cell_type": "markdown",
   "id": "4f381dce-ecd2-4c7e-ae22-4d0e83db4e6f",
   "metadata": {},
   "source": [
    "- join(): Une uma lista de strings em uma única string, usando um delimitador."
   ]
  },
  {
   "cell_type": "code",
   "execution_count": 49,
   "id": "85aaac40-00d1-49a9-a09b-83e5f501261e",
   "metadata": {},
   "outputs": [
    {
     "name": "stdout",
     "output_type": "stream",
     "text": [
      "Thiago Rodrigo Ramos\n"
     ]
    }
   ],
   "source": [
    "lista = ['Thiago', 'Rodrigo', 'Ramos']\n",
    "nome_completo = \" \".join(lista)\n",
    "print(nome_completo)  # Resultado: Thiago Rodrigo Ramos\n"
   ]
  },
  {
   "cell_type": "markdown",
   "id": "b16f8989-0827-49cd-809d-4807e3099685",
   "metadata": {},
   "source": [
    "## Listas\n",
    "\n",
    "Em Python, listas são coleções ordenadas e mutáveis, o que significa que você pode modificar os elementos após sua criação. Elas são definidas usando colchetes [] e podem armazenar múltiplos tipos de dados, como inteiros, strings ou até mesmo outras listas.\n",
    "\n",
    "Características principais:\n",
    "\n",
    "- Mutáveis: você pode adicionar, remover ou modificar elementos.\n",
    "- Ordenadas: os elementos mantêm a ordem em que são inseridos.\n",
    "- Acesso por índice: os elementos podem ser acessados pelo índice, começando por 0."
   ]
  },
  {
   "cell_type": "code",
   "execution_count": 1,
   "id": "4040d2c5-93f2-4612-84bb-687974093877",
   "metadata": {},
   "outputs": [
    {
     "name": "stdout",
     "output_type": "stream",
     "text": [
      "banana\n",
      "['kiwi', 'laranja', 'uva']\n"
     ]
    }
   ],
   "source": [
    "# Criando uma lista\n",
    "frutas = ['maçã', 'banana', 'laranja']\n",
    "\n",
    "# Acessando elementos\n",
    "print(frutas[1])  # banana\n",
    "\n",
    "# Modificando a lista\n",
    "frutas.append('uva')  # Adiciona 'uva' ao final\n",
    "frutas[0] = 'kiwi'    # Substitui 'maçã' por 'kiwi'\n",
    "\n",
    "# Removendo um elemento\n",
    "frutas.remove('banana')\n",
    "\n",
    "print(frutas)  # ['kiwi', 'laranja', 'uva']\n"
   ]
  },
  {
   "cell_type": "markdown",
   "id": "b6943d23-0ff4-4993-b84d-85bd2938b981",
   "metadata": {},
   "source": [
    "## Tuplas \n",
    "\n",
    "As tuplas em Python são semelhantes às listas, porém, diferentemente das listas, são imutáveis, ou seja, seus elementos não podem ser modificados após a criação. Elas são úteis quando você deseja garantir que uma sequência de valores permaneça inalterada. As tuplas são definidas usando parênteses ().\n",
    "Características principais:\n",
    "\n",
    "- Imutáveis: uma vez criadas, seus elementos não podem ser alterados, adicionados ou removidos.\n",
    "- Ordenadas: os elementos mantêm a ordem de inserção.\n",
    "- Acesso por índice: assim como nas listas, os elementos podem ser acessados por índices, começando do 0."
   ]
  },
  {
   "cell_type": "code",
   "execution_count": 5,
   "id": "74f0b1a6-dad8-4e3f-a857-1e3991e00468",
   "metadata": {},
   "outputs": [
    {
     "name": "stdout",
     "output_type": "stream",
     "text": [
      "10\n",
      "('Thiago', 30, True)\n"
     ]
    }
   ],
   "source": [
    "# Criando uma tupla\n",
    "coordenadas = (10, 20)\n",
    "\n",
    "# Acessando elementos\n",
    "print(coordenadas[0])  # 10\n",
    "\n",
    "\n",
    "# Tuplas podem armazenar diferentes tipos de dados\n",
    "dados = ('Thiago', 30, True)\n",
    "\n",
    "print(dados)  # ('Thiago', 30, True)"
   ]
  },
  {
   "cell_type": "code",
   "execution_count": 7,
   "id": "c3b0d3de-9523-402e-b16a-9b23d670dac1",
   "metadata": {},
   "outputs": [],
   "source": [
    "## Tentando modificar a tupla (resultará em erro)\n",
    "# coordenadas[0] = 15  # TypeError: 'tuple' object does not support item assignment"
   ]
  },
  {
   "cell_type": "markdown",
   "id": "f566e99a-56e2-42f7-8c9f-26373566f932",
   "metadata": {},
   "source": [
    "## Dicionários\n",
    "\n",
    "Os dicionários em Python são coleções não ordenadas de pares chave-valor. Eles permitem associar valores a uma chave específica, sendo muito úteis quando você precisa acessar elementos por meio de uma chave, em vez de um índice. Eles são definidos com chaves {}.\n",
    "\n",
    "Características principais:\n",
    "\n",
    "- Mutáveis: você pode adicionar, remover ou modificar pares chave-valor.\n",
    "- Não ordenados: a ordem dos elementos não é garantida nas versões anteriores ao Python 3.7.\n",
    "- Acesso por chave: os valores são acessados por suas chaves, que podem ser de tipos imutáveis (como strings ou números)."
   ]
  },
  {
   "cell_type": "code",
   "execution_count": 2,
   "id": "6ba742fb-c0fe-45a4-a2b9-c92c09737268",
   "metadata": {},
   "outputs": [
    {
     "name": "stdout",
     "output_type": "stream",
     "text": [
      "Ana\n",
      "{'nome': 'Ana', 'idade': 23, 'matricula': 12345}\n"
     ]
    }
   ],
   "source": [
    "# Criando um dicionário\n",
    "estudante = {\n",
    "    'nome': 'Ana',\n",
    "    'idade': 22,\n",
    "    'curso': 'Estatística'\n",
    "}\n",
    "\n",
    "# Acessando valores\n",
    "print(estudante['nome'])  # Ana\n",
    "\n",
    "# Modificando o dicionário\n",
    "estudante['idade'] = 23  # Atualiza o valor da chave 'idade'\n",
    "\n",
    "# Adicionando um novo par chave-valor\n",
    "estudante['matricula'] = 12345\n",
    "\n",
    "# Removendo um elemento\n",
    "del estudante['curso']\n",
    "\n",
    "print(estudante)  # {'nome': 'Ana', 'idade': 23, 'matricula': 12345}\n"
   ]
  },
  {
   "cell_type": "markdown",
   "id": "abf4f7e0-aadd-48b3-b4fa-c43a308aadf5",
   "metadata": {},
   "source": [
    "## Funções em Python\n",
    "\n",
    "As funções em Python são blocos de código reutilizáveis que realizam uma tarefa específica. Elas ajudam a organizar o código, tornando-o mais modular e legível. Você pode definir suas próprias funções usando a palavra-chave def, e elas podem receber parâmetros, retornar valores ou simplesmente executar uma ação.\n",
    "Características principais:\n",
    "\n",
    "- Reutilizáveis: uma vez definida, a função pode ser chamada várias vezes no código.\n",
    "- Modulares: permitem dividir o código em partes menores e mais organizadas.\n",
    "- Parâmetros opcionais ou obrigatórios: funções podem receber parâmetros (ou argumentos) para realizar operações com base neles."
   ]
  },
  {
   "cell_type": "code",
   "execution_count": 8,
   "id": "dcc1cefe-7e62-4eec-bfa8-91c4c060c787",
   "metadata": {},
   "outputs": [
    {
     "name": "stdout",
     "output_type": "stream",
     "text": [
      "Olá, Thiago!\n"
     ]
    }
   ],
   "source": [
    "def saudacao(nome):\n",
    "    \"\"\"Exibe uma saudação personalizada.\"\"\"\n",
    "    print(f\"Olá, {nome}!\")\n",
    "\n",
    "# Chamando a função\n",
    "saudacao(\"Thiago\")  # Olá, Thiago!\n"
   ]
  },
  {
   "cell_type": "markdown",
   "id": "9f1d0e6c-8bb3-47c5-95cc-ab3ad18bafe6",
   "metadata": {},
   "source": [
    "### Return\n",
    "Funções podem retornar valores usando a palavra-chave return. Isso permite que o resultado da função seja usado em outras partes do código."
   ]
  },
  {
   "cell_type": "code",
   "execution_count": 9,
   "id": "b3297202-c52d-4081-a089-605a69173ebc",
   "metadata": {},
   "outputs": [
    {
     "name": "stdout",
     "output_type": "stream",
     "text": [
      "8\n"
     ]
    }
   ],
   "source": [
    "def soma(a, b):\n",
    "    \"\"\"Retorna a soma de dois números.\"\"\"\n",
    "    return a + b\n",
    "\n",
    "resultado = soma(3, 5)\n",
    "print(resultado)  # 8\n"
   ]
  },
  {
   "cell_type": "code",
   "execution_count": null,
   "id": "722cf021-73d3-48bc-b747-cfbbcf160faa",
   "metadata": {},
   "outputs": [],
   "source": []
  }
 ],
 "metadata": {
  "kernelspec": {
   "display_name": "Python 3 (ipykernel)",
   "language": "python",
   "name": "python3"
  },
  "language_info": {
   "codemirror_mode": {
    "name": "ipython",
    "version": 3
   },
   "file_extension": ".py",
   "mimetype": "text/x-python",
   "name": "python",
   "nbconvert_exporter": "python",
   "pygments_lexer": "ipython3",
   "version": "3.10.12"
  }
 },
 "nbformat": 4,
 "nbformat_minor": 5
}
