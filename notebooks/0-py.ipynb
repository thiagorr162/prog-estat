{
 "cells": [
  {
   "cell_type": "markdown",
   "id": "e926f27d-ee18-466a-8b1e-3505acb34824",
   "metadata": {},
   "source": [
    "---\n",
    "title: \"Breve introdução ao Python\"\n",
    "---"
   ]
  },
  {
   "cell_type": "markdown",
   "id": "07a1d82d-266e-43f1-8ae4-39eccdd76a64",
   "metadata": {},
   "source": [
    "Aqui faremos uma breve introdução ao Python. Para uma introdução mais detalhada, você pode explorar:\n",
    "- [Documentação Oficial do Python](https://docs.python.org/3/)\n",
    "- [Real Python](https://realpython.com/)\n",
    "\n"
   ]
  },
  {
   "cell_type": "markdown",
   "id": "11640b4e-0db6-424f-ba08-cf1babfb1b6d",
   "metadata": {},
   "source": [
    "# Variáveis e Tipos de Dados \n",
    "\n",
    "Em Python, variáveis são usadas para armazenar informações que podem ser manipuladas ao longo do código. Existem diferentes tipos de dados que podem ser atribuídos a uma variável. Vamos explorar os principais tipos básicos em Python: `int`, `float`, `str`, `bool`, e `None`.\n"
   ]
  },
  {
   "cell_type": "code",
   "execution_count": 1,
   "id": "0a573f36-a0b9-449c-9c69-53c5e8119364",
   "metadata": {},
   "outputs": [
    {
     "name": "stdout",
     "output_type": "stream",
     "text": [
      "Nome: Thiago (Tipo: <class 'str'>)\n",
      "Idade: 35 (Tipo: <class 'int'>)\n",
      "Saldo Bancário: 1023.75 (Tipo: <class 'float'>)\n",
      "Estudante: True (Tipo: <class 'bool'>)\n",
      "Endereço: None (Tipo: <class 'NoneType'>)\n"
     ]
    }
   ],
   "source": [
    "# Exemplo de variáveis e tipos de dados\n",
    "nome = \"Thiago\"              # String\n",
    "idade = 35                   # Inteiro (int)\n",
    "saldo_bancario = 1023.75      # Float\n",
    "estudante = True              # Booleano (bool)\n",
    "endereco = None               # None, indicando ausência de valor\n",
    "\n",
    "# Usando o método .format() para formatar a string\n",
    "print(\"Nome: {} (Tipo: {})\".format(nome, type(nome)))\n",
    "print(\"Idade: {} (Tipo: {})\".format(idade, type(idade)))\n",
    "print(\"Saldo Bancário: {} (Tipo: {})\".format(saldo_bancario, type(saldo_bancario)))\n",
    "print(\"Estudante: {} (Tipo: {})\".format(estudante, type(estudante)))\n",
    "print(\"Endereço: {} (Tipo: {})\".format(endereco, type(endereco)))\n"
   ]
  },
  {
   "cell_type": "markdown",
   "id": "45f10e21-d057-4568-ac44-4068e1427ba2",
   "metadata": {},
   "source": [
    "## f-strings: Formatação de Strings em Python (*)\n",
    "\n",
    "Introduzidas na versão Python 3.6, as f-strings (ou \"formatted string literals\") são uma forma eficiente e legível de formatar strings, permitindo a inclusão de expressões e variáveis diretamente dentro de uma string.\n",
    "\n",
    "A sintaxe das f-strings utiliza a letra f antes da string e permite a inclusão de expressões dentro de chaves {}. Essas expressões são avaliadas em tempo de execução, e seus resultados são inseridos na string."
   ]
  },
  {
   "cell_type": "code",
   "execution_count": 2,
   "id": "2e075c54-29d7-4aac-bb85-16e9db0a6d8e",
   "metadata": {},
   "outputs": [
    {
     "name": "stdout",
     "output_type": "stream",
     "text": [
      "Nome: Thiago (Tipo: <class 'str'>)\n",
      "Idade: 35 (Tipo: <class 'int'>)\n",
      "Saldo Bancário: 1023.75 (Tipo: <class 'float'>)\n",
      "Estudante: True (Tipo: <class 'bool'>)\n",
      "Endereço: None (Tipo: <class 'NoneType'>)\n"
     ]
    }
   ],
   "source": [
    "# Usando f-strings para formatar a string\n",
    "print(f\"Nome: {nome} (Tipo: {type(nome)})\")\n",
    "print(f\"Idade: {idade} (Tipo: {type(idade)})\")\n",
    "print(f\"Saldo Bancário: {saldo_bancario} (Tipo: {type(saldo_bancario)})\")\n",
    "print(f\"Estudante: {estudante} (Tipo: {type(estudante)})\")\n",
    "print(f\"Endereço: {endereco} (Tipo: {type(endereco)})\")"
   ]
  },
  {
   "cell_type": "markdown",
   "id": "4d6cd4a8-6821-464a-94b5-31f511569bae",
   "metadata": {},
   "source": [
    "# O Comando help() em Python\n",
    "\n",
    "Python possui uma função embutida chamada help(), que é muito útil para obter informações sobre funções, módulos, objetos, e classes. Ele fornece uma explicação detalhada de como determinado elemento funciona, quais parâmetros aceita e o que retorna, entre outros detalhes. Essa função é especialmente útil quando você está começando ou precisa de uma rápida referência sem ter que sair do ambiente de desenvolvimento."
   ]
  },
  {
   "cell_type": "code",
   "execution_count": 3,
   "id": "6646ba31-b21f-407c-a06a-6d50dfb54681",
   "metadata": {},
   "outputs": [
    {
     "name": "stdout",
     "output_type": "stream",
     "text": [
      "Help on built-in function len in module builtins:\n",
      "\n",
      "len(obj, /)\n",
      "    Return the number of items in a container.\n",
      "\n"
     ]
    }
   ],
   "source": [
    "help(len)"
   ]
  },
  {
   "cell_type": "code",
   "execution_count": 4,
   "id": "9e082c8c-593d-4f5d-926a-5e7ba8665796",
   "metadata": {},
   "outputs": [
    {
     "name": "stdout",
     "output_type": "stream",
     "text": [
      "Help on function exemplo in module __main__:\n",
      "\n",
      "exemplo()\n",
      "    Esta é uma função de exemplo.\n",
      "\n"
     ]
    }
   ],
   "source": [
    "def exemplo():\n",
    "    \"\"\"Esta é uma função de exemplo.\"\"\"\n",
    "    pass\n",
    "\n",
    "help(exemplo)"
   ]
  },
  {
   "cell_type": "markdown",
   "id": "0d1bac77-ff9e-415a-b11c-4d06ea2c4472",
   "metadata": {},
   "source": [
    "# Armazenando Resultados em Variáveis\n",
    "\n",
    "Em Python, as variáveis são usadas para armazenar resultados de cálculos ou operações para uso posterior no código. Ao armazenar um valor em uma variável, você pode acessá-lo facilmente quando precisar, sem ter que repetir o cálculo ou operação.\n",
    "\n",
    "Quando você atribui um valor ou resultado de uma operação a uma variável, o Python guarda esse valor na memória e o associa ao nome que você escolheu para a variável. Isso permite que você reutilize o valor sempre que necessário."
   ]
  },
  {
   "cell_type": "code",
   "execution_count": 5,
   "id": "1c798023-b0df-4ba6-bf50-03e37ebc491c",
   "metadata": {},
   "outputs": [
    {
     "name": "stdout",
     "output_type": "stream",
     "text": [
      "8\n"
     ]
    }
   ],
   "source": [
    "resultado = 5 + 3  # Armazenando a soma de 5 e 3 em uma variável\n",
    "print(resultado)    # Resultado: 8\n"
   ]
  },
  {
   "cell_type": "code",
   "execution_count": 6,
   "id": "5c3dd5e3-307a-40fb-83ba-52e5a642cc56",
   "metadata": {},
   "outputs": [
    {
     "name": "stdout",
     "output_type": "stream",
     "text": [
      "5\n"
     ]
    }
   ],
   "source": [
    "x = 2 + 3\n",
    "print(x)"
   ]
  },
  {
   "cell_type": "code",
   "execution_count": 7,
   "id": "86773ebb-4b86-44d4-925f-80e264c7f3f2",
   "metadata": {},
   "outputs": [
    {
     "data": {
      "text/plain": [
       "10"
      ]
     },
     "execution_count": 7,
     "metadata": {},
     "output_type": "execute_result"
    }
   ],
   "source": [
    "y = 2 * x\n",
    "y"
   ]
  },
  {
   "cell_type": "markdown",
   "id": "02745c3a-c4a6-41ae-b1e4-2a872cc411b9",
   "metadata": {},
   "source": [
    "# Variáveis Lógicas\n",
    "\n",
    "Python, assim como R, possui operadores lógicos para comparar valores e trabalhar com variáveis booleanas. Abaixo estão alguns dos principais operadores lógicos usados em Python:\n",
    "\n",
    "| #  | Operador      | Descrição                                   |\n",
    "|----|---------------|---------------------------------------------|\n",
    "| 1  | `x < y`       | x é menor que y?                            |\n",
    "| 2  | `x <= y`      | x é menor ou igual a y?                     |\n",
    "| 3  | `x > y`       | x é maior que y?                            |\n",
    "| 4  | `x >= y`      | x é maior ou igual a y?                     |\n",
    "| 5  | `x == y`      | x é igual a y?                              |\n",
    "| 6  | `x != y`      | x é diferente de y?                         |\n",
    "| 7  | `not x`       | Negativa de x (inverte o valor lógico)       |\n",
    "| 8  | `x or y`      | x ou y são verdadeiros? (ou inclusivo)       |\n",
    "| 9  | `x and y`     | x e y são verdadeiros? (e lógico)            |\n",
    "| 10 | `x ^ y`       | x ou y, mas não ambos, são verdadeiros? (xor lógico) |\n"
   ]
  },
  {
   "cell_type": "code",
   "execution_count": 8,
   "id": "c453a476-95a2-438a-ab72-455182ea9c1e",
   "metadata": {},
   "outputs": [
    {
     "name": "stdout",
     "output_type": "stream",
     "text": [
      "True\n",
      "False\n"
     ]
    }
   ],
   "source": [
    "a = 5\n",
    "b = 10\n",
    "print(a < b)  # True\n",
    "print(a == b)  # False\n"
   ]
  },
  {
   "cell_type": "code",
   "execution_count": 9,
   "id": "58a45979-e494-4ad3-8798-c0e940018dee",
   "metadata": {},
   "outputs": [
    {
     "name": "stdout",
     "output_type": "stream",
     "text": [
      "False\n"
     ]
    }
   ],
   "source": [
    "x = True\n",
    "print(not x)  # False\n"
   ]
  },
  {
   "cell_type": "code",
   "execution_count": 10,
   "id": "168caa84-b6dd-4382-8d80-185481ee07a0",
   "metadata": {},
   "outputs": [
    {
     "name": "stdout",
     "output_type": "stream",
     "text": [
      "True\n"
     ]
    }
   ],
   "source": [
    "x = False\n",
    "y = True\n",
    "print(x or y)  # True\n"
   ]
  },
  {
   "cell_type": "code",
   "execution_count": 11,
   "id": "7217c5b1-3e8b-4aa0-a320-fd4e83245783",
   "metadata": {},
   "outputs": [
    {
     "name": "stdout",
     "output_type": "stream",
     "text": [
      "False\n"
     ]
    }
   ],
   "source": [
    "x = True\n",
    "y = False\n",
    "print(x and y)  # False\n"
   ]
  },
  {
   "cell_type": "code",
   "execution_count": 12,
   "id": "35d114f2-d625-4a12-a347-6a58181c5ca9",
   "metadata": {},
   "outputs": [
    {
     "name": "stdout",
     "output_type": "stream",
     "text": [
      "True\n"
     ]
    }
   ],
   "source": [
    "x = True\n",
    "y = False\n",
    "print(x ^ y)  # True (apenas um dos dois é verdadeiro)\n"
   ]
  },
  {
   "cell_type": "markdown",
   "id": "a894bf10-97a6-49b1-bee1-7233b5d3a7fe",
   "metadata": {},
   "source": [
    "## Cuidado!\n",
    "Em Python, o operador ^ não é usado para exponenciação. Em vez disso, ele é o operador bitwise XOR (ou exclusivo) para manipulação de bits.\n",
    "\n",
    "O operador XOR (ou exclusivo) compara os bits de dois números. Ele retorna 1 quando os bits são diferentes e 0 quando os bits são iguais."
   ]
  },
  {
   "cell_type": "code",
   "execution_count": 13,
   "id": "932aaa0e-5e3f-414b-b893-481be82e6f89",
   "metadata": {},
   "outputs": [
    {
     "name": "stdout",
     "output_type": "stream",
     "text": [
      "125\n"
     ]
    }
   ],
   "source": [
    "a = 5   # Em binário: 101\n",
    "b = 3   # Em binário: 011\n",
    "\n",
    "resultado = a ** b  # Faz XOR bit a bit\n",
    "\n",
    "print(resultado)  # Saída: 6 (Em binário: 110)"
   ]
  },
  {
   "cell_type": "code",
   "execution_count": 14,
   "id": "9935443a-b1cd-4583-8900-7b4cf344ab02",
   "metadata": {},
   "outputs": [
    {
     "name": "stdout",
     "output_type": "stream",
     "text": [
      "6\n"
     ]
    }
   ],
   "source": [
    "a = 5   # Em binário: 101\n",
    "b = 3   # Em binário: 011\n",
    "\n",
    "resultado = a ^ b  # Faz XOR bit a bit\n",
    "\n",
    "print(resultado)  # Saída: 6 (Em binário: 110)"
   ]
  },
  {
   "cell_type": "markdown",
   "id": "18a57fac-3479-48bf-96fa-c343da521d97",
   "metadata": {},
   "source": [
    "# Caracteres/Strings em Python\n",
    "\n",
    "Em Python, uma string é uma sequência de caracteres que pode ser usada para armazenar e manipular textos. Strings são um dos tipos de dados mais comuns e úteis, e Python oferece uma grande variedade de métodos e operações para trabalhar com elas.\n",
    "\n",
    "As strings em Python podem ser definidas de diferentes maneiras, usando aspas simples (') ou aspas duplas (\").\n"
   ]
  },
  {
   "cell_type": "code",
   "execution_count": 15,
   "id": "6fa35e6e-4c94-48bd-b382-46cad3de5570",
   "metadata": {},
   "outputs": [],
   "source": [
    "# Definindo strings\n",
    "nome = 'Thiago'\n",
    "cidade = \"São Carlos\""
   ]
  },
  {
   "cell_type": "markdown",
   "id": "ac4114d5-d2ed-45e8-a92a-283c2fc23d85",
   "metadata": {},
   "source": [
    "- Concatenar Strings: Você pode unir duas ou mais strings usando o operador +."
   ]
  },
  {
   "cell_type": "code",
   "execution_count": 16,
   "id": "aff721a6-76f2-4045-91c4-568b753c61d0",
   "metadata": {},
   "outputs": [
    {
     "name": "stdout",
     "output_type": "stream",
     "text": [
      "Thiago Rodrigo\n"
     ]
    }
   ],
   "source": [
    "# Concatenação\n",
    "nome_completo = \"Thiago\" + \" \" + \"Rodrigo\"\n",
    "print(nome_completo)  # Resultado: Thiago Rodrigo\n"
   ]
  },
  {
   "cell_type": "markdown",
   "id": "8bd69792-2a11-427e-b896-5bc98a5987a1",
   "metadata": {},
   "source": [
    "- Repetir Strings: Você pode repetir uma string múltiplas vezes usando o operador *."
   ]
  },
  {
   "cell_type": "code",
   "execution_count": 17,
   "id": "05563529-21c2-4791-b67d-5437da63bfd1",
   "metadata": {},
   "outputs": [
    {
     "name": "stdout",
     "output_type": "stream",
     "text": [
      "Oi! Oi! Oi! \n"
     ]
    }
   ],
   "source": [
    "repeticao = \"Oi! \" * 3\n",
    "print(repeticao)  # Resultado: Oi! Oi! Oi! \n"
   ]
  },
  {
   "cell_type": "markdown",
   "id": "314ce40f-11e2-4f23-b6f1-3762aea32640",
   "metadata": {},
   "source": [
    "- Acessar Caracteres por Índice: As strings em Python são indexadas, e você pode acessar um caractere específico usando o índice (começando em 0)."
   ]
  },
  {
   "cell_type": "code",
   "execution_count": 18,
   "id": "f97b18fd-8451-4d05-9b9c-32b7d52a23bd",
   "metadata": {},
   "outputs": [
    {
     "name": "stdout",
     "output_type": "stream",
     "text": [
      "T\n",
      "o\n"
     ]
    }
   ],
   "source": [
    "nome = \"Thiago\"\n",
    "print(nome[0])  # Resultado: T\n",
    "print(nome[-1])  # Resultado: o (último caractere)\n"
   ]
  },
  {
   "cell_type": "markdown",
   "id": "9d88005e-86b9-4450-ad08-477bd1f953a7",
   "metadata": {},
   "source": [
    "- Fatiar Strings (Slicing): Você pode pegar uma parte da string usando fatias (substrings)."
   ]
  },
  {
   "cell_type": "code",
   "execution_count": 19,
   "id": "72819cc0-4661-42d5-845e-6338f9d50c7e",
   "metadata": {},
   "outputs": [
    {
     "name": "stdout",
     "output_type": "stream",
     "text": [
      "Thi\n"
     ]
    }
   ],
   "source": [
    "nome = \"Thiago\"\n",
    "print(nome[0:3])  # Resultado: Thi (caracteres do índice 0 ao 2)\n"
   ]
  },
  {
   "cell_type": "markdown",
   "id": "06d464f1-035e-45b1-8540-48255fed5c3c",
   "metadata": {},
   "source": [
    "- Comprimento de Strings: Para saber quantos caracteres uma string tem, use a função len()."
   ]
  },
  {
   "cell_type": "code",
   "execution_count": 20,
   "id": "8a350a25-8bdd-448e-9435-29f6ea284c56",
   "metadata": {},
   "outputs": [
    {
     "name": "stdout",
     "output_type": "stream",
     "text": [
      "6\n"
     ]
    }
   ],
   "source": [
    "nome = \"Thiago\"\n",
    "print(len(nome))  # Resultado: 6"
   ]
  },
  {
   "cell_type": "markdown",
   "id": "cd1c0ae8-f338-4f6b-9eb1-6bb95c0ee00a",
   "metadata": {},
   "source": [
    "## Métodos Úteis para Strings"
   ]
  },
  {
   "cell_type": "markdown",
   "id": "612a118c-ccb8-412f-b74a-1e7ecda2d24c",
   "metadata": {},
   "source": [
    "- lower() e upper(): Convertem todas as letras para minúsculas ou maiúsculas, respectivamente."
   ]
  },
  {
   "cell_type": "code",
   "execution_count": 21,
   "id": "f37376b6-9ca0-43d6-b6cc-d8b21d8770f4",
   "metadata": {},
   "outputs": [
    {
     "name": "stdout",
     "output_type": "stream",
     "text": [
      "thiago\n",
      "THIAGO\n"
     ]
    }
   ],
   "source": [
    "nome = \"Thiago\"\n",
    "print(nome.lower())  # Resultado: thiago\n",
    "print(nome.upper())  # Resultado: THIAGO\n"
   ]
  },
  {
   "cell_type": "markdown",
   "id": "72e0f8ac-be79-47fa-a6ce-07cca08162c9",
   "metadata": {},
   "source": [
    "- strip(): Remove espaços em branco no início e no final da string."
   ]
  },
  {
   "cell_type": "code",
   "execution_count": 22,
   "id": "47f472f5-3106-4210-96b2-da237125f97c",
   "metadata": {},
   "outputs": [
    {
     "name": "stdout",
     "output_type": "stream",
     "text": [
      "Olá!\n"
     ]
    }
   ],
   "source": [
    "frase = \"   Olá!   \"\n",
    "print(frase.strip())  # Resultado: Olá!\n"
   ]
  },
  {
   "cell_type": "markdown",
   "id": "76bb3ded-f897-4b41-8b63-853a4d0bfe45",
   "metadata": {},
   "source": [
    "- replace(): Substitui parte de uma string por outra."
   ]
  },
  {
   "cell_type": "code",
   "execution_count": 23,
   "id": "cb4d3804-a920-4ef0-85d8-88ac4d817fe3",
   "metadata": {},
   "outputs": [
    {
     "name": "stdout",
     "output_type": "stream",
     "text": [
      "Eu gosto de Python\n"
     ]
    }
   ],
   "source": [
    "frase = \"Eu gosto de R\"\n",
    "nova_frase = frase.replace(\"R\", \"Python\")\n",
    "print(nova_frase)  # Resultado: Eu gosto de programação\n"
   ]
  },
  {
   "cell_type": "markdown",
   "id": "ef698d4d-9e25-4681-84f6-0689d54753e9",
   "metadata": {},
   "source": [
    "- split(): Divide uma string em uma lista, utilizando um delimitador (por padrão, espaço)."
   ]
  },
  {
   "cell_type": "code",
   "execution_count": 24,
   "id": "53e761e6-f994-4cad-8d7c-ee350cdbbaa9",
   "metadata": {},
   "outputs": [
    {
     "name": "stdout",
     "output_type": "stream",
     "text": [
      "['Eu', 'gosto', 'de', 'Python']\n"
     ]
    }
   ],
   "source": [
    "frase = \"Eu gosto de Python\"\n",
    "palavras = frase.split()\n",
    "print(palavras)  # Resultado: ['Eu', 'gosto', 'de', 'Python']\n"
   ]
  },
  {
   "cell_type": "markdown",
   "id": "4f381dce-ecd2-4c7e-ae22-4d0e83db4e6f",
   "metadata": {},
   "source": [
    "- join(): Une uma lista de strings em uma única string, usando um delimitador."
   ]
  },
  {
   "cell_type": "code",
   "execution_count": 25,
   "id": "85aaac40-00d1-49a9-a09b-83e5f501261e",
   "metadata": {},
   "outputs": [
    {
     "name": "stdout",
     "output_type": "stream",
     "text": [
      "Thiago Rodrigo Ramos\n"
     ]
    }
   ],
   "source": [
    "lista = ['Thiago', 'Rodrigo', 'Ramos']\n",
    "nome_completo = \" \".join(lista)\n",
    "print(nome_completo)  # Resultado: Thiago Rodrigo Ramos\n"
   ]
  },
  {
   "cell_type": "markdown",
   "id": "b16f8989-0827-49cd-809d-4807e3099685",
   "metadata": {},
   "source": [
    "# Listas\n",
    "\n",
    "Em Python, listas são coleções ordenadas e mutáveis, o que significa que você pode modificar os elementos após sua criação. Elas são definidas usando colchetes [] e podem armazenar múltiplos tipos de dados, como inteiros, strings ou até mesmo outras listas.\n",
    "\n",
    "Características principais:\n",
    "\n",
    "- Mutáveis: você pode adicionar, remover ou modificar elementos.\n",
    "- Ordenadas: os elementos mantêm a ordem em que são inseridos.\n",
    "- Acesso por índice: os elementos podem ser acessados pelo índice, começando por 0."
   ]
  },
  {
   "cell_type": "code",
   "execution_count": 26,
   "id": "4040d2c5-93f2-4612-84bb-687974093877",
   "metadata": {},
   "outputs": [
    {
     "name": "stdout",
     "output_type": "stream",
     "text": [
      "banana\n",
      "['kiwi', 'laranja', 'uva']\n"
     ]
    }
   ],
   "source": [
    "# Criando uma lista\n",
    "frutas = ['maçã', 'banana', 'laranja']\n",
    "\n",
    "# Acessando elementos\n",
    "print(frutas[1])  # banana\n",
    "\n",
    "# Modificando a lista\n",
    "frutas.append('uva')  # Adiciona 'uva' ao final\n",
    "frutas[0] = 'kiwi'    # Substitui 'maçã' por 'kiwi'\n",
    "\n",
    "# Removendo um elemento\n",
    "frutas.remove('banana')\n",
    "\n",
    "print(frutas)  # ['kiwi', 'laranja', 'uva']\n"
   ]
  },
  {
   "cell_type": "markdown",
   "id": "b6943d23-0ff4-4993-b84d-85bd2938b981",
   "metadata": {},
   "source": [
    "# Tuplas \n",
    "\n",
    "As tuplas em Python são semelhantes às listas, porém, diferentemente das listas, são imutáveis, ou seja, seus elementos não podem ser modificados após a criação. Elas são úteis quando você deseja garantir que uma sequência de valores permaneça inalterada. As tuplas são definidas usando parênteses ().\n",
    "Características principais:\n",
    "\n",
    "- Imutáveis: uma vez criadas, seus elementos não podem ser alterados, adicionados ou removidos.\n",
    "- Ordenadas: os elementos mantêm a ordem de inserção.\n",
    "- Acesso por índice: assim como nas listas, os elementos podem ser acessados por índices, começando do 0."
   ]
  },
  {
   "cell_type": "code",
   "execution_count": 27,
   "id": "74f0b1a6-dad8-4e3f-a857-1e3991e00468",
   "metadata": {},
   "outputs": [
    {
     "name": "stdout",
     "output_type": "stream",
     "text": [
      "10\n",
      "('Thiago', 30, True)\n"
     ]
    }
   ],
   "source": [
    "# Criando uma tupla\n",
    "coordenadas = (10, 20)\n",
    "\n",
    "# Acessando elementos\n",
    "print(coordenadas[0])  # 10\n",
    "\n",
    "\n",
    "# Tuplas podem armazenar diferentes tipos de dados\n",
    "dados = ('Thiago', 30, True)\n",
    "\n",
    "print(dados)  # ('Thiago', 30, True)"
   ]
  },
  {
   "cell_type": "code",
   "execution_count": 28,
   "id": "c3b0d3de-9523-402e-b16a-9b23d670dac1",
   "metadata": {},
   "outputs": [],
   "source": [
    "## Tentando modificar a tupla (resultará em erro)\n",
    "# coordenadas[0] = 15  # TypeError: 'tuple' object does not support item assignment"
   ]
  },
  {
   "cell_type": "markdown",
   "id": "f566e99a-56e2-42f7-8c9f-26373566f932",
   "metadata": {},
   "source": [
    "# Dicionários\n",
    "\n",
    "Os dicionários em Python são coleções não ordenadas de pares chave-valor. Eles permitem associar valores a uma chave específica, sendo muito úteis quando você precisa acessar elementos por meio de uma chave, em vez de um índice. Eles são definidos com chaves {}.\n",
    "\n",
    "Características principais:\n",
    "\n",
    "- Mutáveis: você pode adicionar, remover ou modificar pares chave-valor.\n",
    "- Não ordenados: a ordem dos elementos não é garantida nas versões anteriores ao Python 3.7.\n",
    "- Acesso por chave: os valores são acessados por suas chaves, que podem ser de tipos imutáveis (como strings ou números)."
   ]
  },
  {
   "cell_type": "code",
   "execution_count": 29,
   "id": "6ba742fb-c0fe-45a4-a2b9-c92c09737268",
   "metadata": {},
   "outputs": [
    {
     "name": "stdout",
     "output_type": "stream",
     "text": [
      "Ana\n",
      "{'nome': 'Ana', 'idade': 23, 'matricula': 12345}\n"
     ]
    }
   ],
   "source": [
    "# Criando um dicionário\n",
    "estudante = {\n",
    "    'nome': 'Ana',\n",
    "    'idade': 22,\n",
    "    'curso': 'Estatística'\n",
    "}\n",
    "\n",
    "# Acessando valores\n",
    "print(estudante['nome'])  # Ana\n",
    "\n",
    "# Modificando o dicionário\n",
    "estudante['idade'] = 23  # Atualiza o valor da chave 'idade'\n",
    "\n",
    "# Adicionando um novo par chave-valor\n",
    "estudante['matricula'] = 12345\n",
    "\n",
    "# Removendo um elemento\n",
    "del estudante['curso']\n",
    "\n",
    "print(estudante)  # {'nome': 'Ana', 'idade': 23, 'matricula': 12345}\n"
   ]
  },
  {
   "cell_type": "markdown",
   "id": "abf4f7e0-aadd-48b3-b4fa-c43a308aadf5",
   "metadata": {},
   "source": [
    "# Funções em Python\n",
    "\n",
    "As funções em Python são blocos de código reutilizáveis que realizam uma tarefa específica. Elas ajudam a organizar o código, tornando-o mais modular e legível. Você pode definir suas próprias funções usando a palavra-chave def, e elas podem receber parâmetros, retornar valores ou simplesmente executar uma ação.\n",
    "Características principais:\n",
    "\n",
    "- Reutilizáveis: uma vez definida, a função pode ser chamada várias vezes no código.\n",
    "- Modulares: permitem dividir o código em partes menores e mais organizadas.\n",
    "- Parâmetros opcionais ou obrigatórios: funções podem receber parâmetros (ou argumentos) para realizar operações com base neles."
   ]
  },
  {
   "cell_type": "code",
   "execution_count": 30,
   "id": "dcc1cefe-7e62-4eec-bfa8-91c4c060c787",
   "metadata": {},
   "outputs": [
    {
     "name": "stdout",
     "output_type": "stream",
     "text": [
      "Olá, Thiago!\n"
     ]
    }
   ],
   "source": [
    "def saudacao(nome):\n",
    "    \"\"\"Exibe uma saudação personalizada.\"\"\"\n",
    "    print(f\"Olá, {nome}!\")\n",
    "\n",
    "# Chamando a função\n",
    "saudacao(\"Thiago\")  # Olá, Thiago!\n"
   ]
  },
  {
   "cell_type": "markdown",
   "id": "9f1d0e6c-8bb3-47c5-95cc-ab3ad18bafe6",
   "metadata": {},
   "source": [
    "## Return\n",
    "Funções podem retornar valores usando a palavra-chave return. Isso permite que o resultado da função seja usado em outras partes do código."
   ]
  },
  {
   "cell_type": "code",
   "execution_count": 31,
   "id": "b3297202-c52d-4081-a089-605a69173ebc",
   "metadata": {},
   "outputs": [
    {
     "name": "stdout",
     "output_type": "stream",
     "text": [
      "8\n"
     ]
    }
   ],
   "source": [
    "def soma(a, b):\n",
    "    \"\"\"Retorna a soma de dois números.\"\"\"\n",
    "    return a + b\n",
    "\n",
    "resultado = soma(3, 5)\n",
    "print(resultado)  # 8\n"
   ]
  },
  {
   "cell_type": "markdown",
   "id": "485bca92-fe1c-4148-b045-53fa94f0611a",
   "metadata": {},
   "source": [
    "## Parâmetros Opcionais e Valores Padrão\n",
    "\n",
    "Você pode definir parâmetros opcionais em uma função, atribuindo valores padrão a eles."
   ]
  },
  {
   "cell_type": "code",
   "execution_count": 32,
   "id": "dbb552a3-4ccd-4f82-9a51-2de4abffda84",
   "metadata": {},
   "outputs": [
    {
     "name": "stdout",
     "output_type": "stream",
     "text": [
      "Olá, amigo!\n",
      "Olá, Rafael!\n"
     ]
    }
   ],
   "source": [
    "def saudacao(nome=\"amigo\"):\n",
    "    \"\"\"Exibe uma saudação personalizada, com um nome padrão.\"\"\"\n",
    "    print(f\"Olá, {nome}!\")\n",
    "\n",
    "saudacao()         # Olá, amigo!\n",
    "saudacao(\"Rafael\")  # Olá, Rafael!\n"
   ]
  },
  {
   "cell_type": "markdown",
   "id": "77ac4198-afe6-416c-936b-d14e6f675911",
   "metadata": {},
   "source": [
    "## Lambda\n",
    "\n",
    "Python também oferece funções anônimas (ou funções lambda), que são funções curtas e sem nome. Elas são úteis quando você precisa de uma função simples e temporária."
   ]
  },
  {
   "cell_type": "code",
   "execution_count": 33,
   "id": "5e976099-b162-439d-8713-1d554db49b53",
   "metadata": {},
   "outputs": [
    {
     "name": "stdout",
     "output_type": "stream",
     "text": [
      "12\n"
     ]
    }
   ],
   "source": [
    "# Função lambda para multiplicar dois números\n",
    "multiplicar = lambda x, y: x * y\n",
    "print(multiplicar(3, 4))  # 12\n"
   ]
  },
  {
   "cell_type": "markdown",
   "id": "df79f429-a3e6-4dfc-a884-60dc01cf72b4",
   "metadata": {},
   "source": [
    "# Loops\n",
    "\n",
    "Os loops são estruturas fundamentais de programação que permitem executar um bloco de código repetidamente enquanto uma condição for verdadeira ou para cada item de uma sequência. Python oferece dois tipos principais de loops: for e while.\n"
   ]
  },
  {
   "cell_type": "markdown",
   "id": "7d7656ab-86f1-4e22-b29e-8014953c1d20",
   "metadata": {},
   "source": [
    "## for\n",
    "\n",
    "O loop for é usado para iterar sobre uma sequência (como uma lista, tupla, string ou range) e executar um bloco de código para cada item dessa sequência. É especialmente útil quando o número de iterações é conhecido ou quando você deseja percorrer uma estrutura de dados."
   ]
  },
  {
   "cell_type": "code",
   "execution_count": 34,
   "id": "dce44ace-23ce-47ce-a7ca-18434ea2b711",
   "metadata": {},
   "outputs": [
    {
     "name": "stdout",
     "output_type": "stream",
     "text": [
      "maçã\n",
      "banana\n",
      "laranja\n"
     ]
    }
   ],
   "source": [
    "# Iterando sobre uma lista\n",
    "frutas = ['maçã', 'banana', 'laranja']\n",
    "for fruta in frutas:\n",
    "    print(fruta)\n"
   ]
  },
  {
   "cell_type": "code",
   "execution_count": 35,
   "id": "0388bcd3-2574-43b8-94b7-c94c16d94681",
   "metadata": {},
   "outputs": [
    {
     "name": "stdout",
     "output_type": "stream",
     "text": [
      "0\n",
      "1\n",
      "2\n",
      "3\n",
      "4\n"
     ]
    }
   ],
   "source": [
    "# Iterando de 0 a 4\n",
    "for i in range(5):\n",
    "    print(i)\n"
   ]
  },
  {
   "cell_type": "code",
   "execution_count": 36,
   "id": "dd04ad00-3aae-40b9-9b4c-ac86eaf4e501",
   "metadata": {},
   "outputs": [
    {
     "name": "stdout",
     "output_type": "stream",
     "text": [
      "0 maçã\n",
      "1 banana\n",
      "2 laranja\n"
     ]
    }
   ],
   "source": [
    "frutas = ['maçã', 'banana', 'laranja']\n",
    "for i, fruta in enumerate(frutas):\n",
    "    print(i, fruta)"
   ]
  },
  {
   "cell_type": "markdown",
   "id": "d0a82afe-c6ee-41b1-8aa7-e5c0c67f461b",
   "metadata": {},
   "source": [
    "## while\n",
    "\n",
    "O loop while executa um bloco de código repetidamente enquanto uma condição for verdadeira. Ele é útil quando o número de iterações não é conhecido antecipadamente e depende de uma condição dinâmica."
   ]
  },
  {
   "cell_type": "code",
   "execution_count": 37,
   "id": "cdf8497b-05b6-4268-bc0e-21005e6c79d0",
   "metadata": {},
   "outputs": [
    {
     "name": "stdout",
     "output_type": "stream",
     "text": [
      "0\n",
      "1\n",
      "2\n",
      "3\n",
      "4\n"
     ]
    }
   ],
   "source": [
    "# Loop enquanto o valor de x for menor que 5\n",
    "x = 0\n",
    "while x < 5:\n",
    "    print(x)\n",
    "    x += 1\n"
   ]
  },
  {
   "cell_type": "markdown",
   "id": "e4ae8303-7664-45b2-9a0f-8b927a9608af",
   "metadata": {},
   "source": [
    "## Controle de Loops: break e continue\n",
    "\n",
    "**break**: interrompe o loop imediatamente, mesmo que a condição ainda seja verdadeira (no caso do while) ou ainda restem itens na sequência (no caso do for).\n",
    "\n",
    "**continue**: pula para a próxima iteração do loop, ignorando o código restante naquela iteração."
   ]
  },
  {
   "cell_type": "code",
   "execution_count": 38,
   "id": "86519d26-ce81-4eea-936d-029747e41666",
   "metadata": {},
   "outputs": [
    {
     "name": "stdout",
     "output_type": "stream",
     "text": [
      "0\n",
      "1\n",
      "2\n",
      "3\n",
      "4\n"
     ]
    }
   ],
   "source": [
    "for i in range(10):\n",
    "    if i == 5:\n",
    "        break  # Interrompe o loop quando i é igual a 5\n",
    "    print(i)\n"
   ]
  },
  {
   "cell_type": "code",
   "execution_count": 39,
   "id": "5582afd0-9fac-408d-a627-0d4e33c9027e",
   "metadata": {},
   "outputs": [
    {
     "name": "stdout",
     "output_type": "stream",
     "text": [
      "0\n",
      "1\n",
      "2\n",
      "4\n"
     ]
    }
   ],
   "source": [
    "for i in range(5):\n",
    "    if i == 3:\n",
    "        continue  # Pula a iteração quando i é igual a 3\n",
    "    print(i)\n"
   ]
  },
  {
   "cell_type": "markdown",
   "id": "8cb92947-86a4-4483-9f34-03e2cfdf7d7a",
   "metadata": {},
   "source": [
    "# Estruturas Condicionais: if, else e elif em Python\n",
    "\n",
    "As estruturas condicionais em Python permitem que o programa tome decisões e execute blocos de código diferentes com base em condições específicas. As principais instruções condicionais são if, else e elif."
   ]
  },
  {
   "cell_type": "markdown",
   "id": "f7e23e33-2033-49c8-a31a-70a501153f93",
   "metadata": {},
   "source": [
    "## if\n",
    "\n",
    "A instrução if é usada para executar um bloco de código se uma condição for verdadeira. Se a condição avaliada for True, o bloco de código indentado após o if será executado."
   ]
  },
  {
   "cell_type": "code",
   "execution_count": 40,
   "id": "b3b024ab-1114-4036-9011-c3bbf1e4f5c5",
   "metadata": {},
   "outputs": [
    {
     "name": "stdout",
     "output_type": "stream",
     "text": [
      "Você é maior de idade\n"
     ]
    }
   ],
   "source": [
    "idade = 20\n",
    "if idade >= 18:\n",
    "    print(\"Você é maior de idade\")\n"
   ]
  },
  {
   "cell_type": "markdown",
   "id": "c63c5a79-c311-40a3-af15-4ebe83b1fce8",
   "metadata": {},
   "source": [
    "## else\n",
    "\n",
    "A instrução else é usada para executar um bloco de código se a condição do if for falsa. É como uma segunda opção, caso a primeira condição não seja atendida."
   ]
  },
  {
   "cell_type": "code",
   "execution_count": 41,
   "id": "3a26b515-6208-49b8-93c6-fc8343d6b7e4",
   "metadata": {},
   "outputs": [
    {
     "name": "stdout",
     "output_type": "stream",
     "text": [
      "Você é menor de idade\n"
     ]
    }
   ],
   "source": [
    "idade = 16\n",
    "if idade >= 18:\n",
    "    print(\"Você é maior de idade\")\n",
    "else:\n",
    "    print(\"Você é menor de idade\")\n"
   ]
  },
  {
   "cell_type": "markdown",
   "id": "928a6ea6-0be2-4ad2-a6bb-3a0af78b02a2",
   "metadata": {},
   "source": [
    "## elif\n",
    "\n",
    "A instrução elif (abreviação de else if) permite testar múltiplas condições. Se a condição if for falsa, o Python verificará a condição do elif. Você pode ter vários blocos elif em uma estrutura condicional."
   ]
  },
  {
   "cell_type": "code",
   "execution_count": 42,
   "id": "76f6257f-c1a0-432f-b8ea-d4b3b6a23ced",
   "metadata": {},
   "outputs": [
    {
     "name": "stdout",
     "output_type": "stream",
     "text": [
      "Aprovado\n"
     ]
    }
   ],
   "source": [
    "nota = 85\n",
    "if nota >= 90:\n",
    "    print(\"Aprovado com excelência\")\n",
    "elif nota >= 70:\n",
    "    print(\"Aprovado\")\n",
    "else:\n",
    "    print(\"Reprovado\")\n"
   ]
  },
  {
   "cell_type": "markdown",
   "id": "e32f0fa5-1366-44cb-9555-021809a65f07",
   "metadata": {},
   "source": [
    "## Operadores lógicos\n",
    "\n",
    "As condições podem usar operadores lógicos para combinar mais de uma verificação:\n",
    "\n",
    "- and: todas as condições devem ser verdadeiras.\n",
    "- or: pelo menos uma condição deve ser verdadeira.\n",
    "- not: inverte o resultado da condição."
   ]
  },
  {
   "cell_type": "code",
   "execution_count": 43,
   "id": "0b704bcf-db21-4f47-bc56-c2d452f8458b",
   "metadata": {},
   "outputs": [
    {
     "name": "stdout",
     "output_type": "stream",
     "text": [
      "Você pode dirigir\n"
     ]
    }
   ],
   "source": [
    "idade = 20\n",
    "possui_carteira = True\n",
    "\n",
    "if idade >= 18 and possui_carteira:\n",
    "    print(\"Você pode dirigir\")\n",
    "else:\n",
    "    print(\"Você não pode dirigir\")\n"
   ]
  },
  {
   "cell_type": "markdown",
   "id": "43a7b2e0-c02e-4d0d-80dc-f619b02a9bdc",
   "metadata": {},
   "source": [
    "# Bibliotecas Essenciais para Estatística: NumPy, Pandas e Matplotlib\n",
    "\n",
    "Em Python, as bibliotecas NumPy, Pandas, e Matplotlib são amplamente utilizadas para análise de dados e computação científica. Elas fornecem ferramentas poderosas para lidar com grandes volumes de dados, realizar cálculos matemáticos eficientes e criar visualizações de alta qualidade. Vamos detalhar cada uma delas:"
   ]
  },
  {
   "cell_type": "markdown",
   "id": "46160dbf-076d-492e-a263-18713dc50f28",
   "metadata": {},
   "source": [
    "## NumPy\n",
    "\n",
    "NumPy (Numerical Python) é uma biblioteca fundamental para cálculos matemáticos em Python. Ela fornece suporte para arrays e matrizes multidimensionais, além de uma coleção de funções para operações com esses arrays.\n",
    "Principais características:\n",
    "\n",
    "- Array multidimensional (ndarray): O ndarray é a estrutura central da NumPy, oferecendo suporte a vetores e matrizes de várias dimensões, com operações eficientes em termos de memória e tempo de execução.\n",
    "- Operações vetorizadas: Permite realizar operações em todos os elementos de um array sem a necessidade de loops explícitos.\n",
    "- Funções matemáticas: Inclui uma vasta gama de funções para álgebra linear, estatística, trigonometria, entre outros."
   ]
  },
  {
   "cell_type": "code",
   "execution_count": 44,
   "id": "677b736d-b6b7-4046-8b6a-97898fbab167",
   "metadata": {},
   "outputs": [
    {
     "name": "stdout",
     "output_type": "stream",
     "text": [
      "[ 2  4  6  8 10]\n",
      "[[ 7 10]\n",
      " [15 22]]\n"
     ]
    }
   ],
   "source": [
    "import numpy as np\n",
    "\n",
    "# Criando um array NumPy\n",
    "array = np.array([1, 2, 3, 4, 5])\n",
    "\n",
    "# Operações elementares\n",
    "print(array * 2)  # Multiplicação por escalar: [2 4 6 8 10]\n",
    "\n",
    "# Matrizes e operações matriciais\n",
    "matriz = np.array([[1, 2], [3, 4]])\n",
    "print(np.dot(matriz, matriz))  # Multiplicação de matrizes\n"
   ]
  },
  {
   "cell_type": "code",
   "execution_count": 45,
   "id": "b652b45e-8621-4012-946c-a4a4e998b697",
   "metadata": {},
   "outputs": [
    {
     "name": "stdout",
     "output_type": "stream",
     "text": [
      "3.0\n"
     ]
    }
   ],
   "source": [
    "dados = np.array([1, 2, 3, 4, 5])\n",
    "media = np.mean(dados)\n",
    "print(media)  # Saída: 3.0\n"
   ]
  },
  {
   "cell_type": "code",
   "execution_count": 46,
   "id": "93927918-a0a3-4e88-9d5b-ae945dacd748",
   "metadata": {},
   "outputs": [
    {
     "name": "stdout",
     "output_type": "stream",
     "text": [
      "3.0\n"
     ]
    }
   ],
   "source": [
    "mediana = np.median(dados)\n",
    "print(mediana)  # Saída: 3.0\n"
   ]
  },
  {
   "cell_type": "code",
   "execution_count": 47,
   "id": "dcfe6c17-3d83-471c-9cfe-fecefba7ddcb",
   "metadata": {},
   "outputs": [
    {
     "name": "stdout",
     "output_type": "stream",
     "text": [
      "2.0\n"
     ]
    }
   ],
   "source": [
    "variancia = np.var(dados)\n",
    "print(variancia)  # Saída: 2.0\n"
   ]
  },
  {
   "cell_type": "code",
   "execution_count": 48,
   "id": "eaf5d0d9-7d94-421e-b97a-346c54c5f6fe",
   "metadata": {},
   "outputs": [
    {
     "name": "stdout",
     "output_type": "stream",
     "text": [
      "1.4142135623730951\n"
     ]
    }
   ],
   "source": [
    "desvio_padrao = np.std(dados)\n",
    "print(desvio_padrao)  # Saída: 1.4142135623730951\n"
   ]
  },
  {
   "cell_type": "code",
   "execution_count": 49,
   "id": "dcb7f038-ef7b-4040-9006-fd8f1f532cc0",
   "metadata": {},
   "outputs": [
    {
     "name": "stdout",
     "output_type": "stream",
     "text": [
      "1 5\n"
     ]
    }
   ],
   "source": [
    "minimo = np.min(dados)\n",
    "maximo = np.max(dados)\n",
    "print(minimo, maximo)  # Saída: 1 5\n"
   ]
  },
  {
   "cell_type": "code",
   "execution_count": 50,
   "id": "841651e7-c747-445e-b391-7b38634fc127",
   "metadata": {},
   "outputs": [
    {
     "name": "stdout",
     "output_type": "stream",
     "text": [
      "2.0 3.0 4.0\n"
     ]
    }
   ],
   "source": [
    "p25 = np.percentile(dados, 25)\n",
    "p50 = np.percentile(dados, 50)\n",
    "p75 = np.percentile(dados, 75)\n",
    "print(p25, p50, p75)  # Saída: 2.0 3.0 4.0\n"
   ]
  },
  {
   "cell_type": "markdown",
   "id": "bd17fe5f-58c6-4c51-97ff-2e3163e521d3",
   "metadata": {},
   "source": [
    "## Pandas\n",
    "\n",
    "Pandas é uma biblioteca poderosa para manipulação de dados em Python, frequentemente usada em projetos de ciência de dados, análise estatística e processamento de dados tabulares. Ela oferece estruturas de dados como DataFrames e Series que facilitam a organização, limpeza e análise de dados, tornando-a uma das ferramentas mais populares para lidar com grandes volumes de dados."
   ]
  },
  {
   "cell_type": "markdown",
   "id": "98f7092e-7742-4b78-8dcb-6ad734601f4a",
   "metadata": {},
   "source": [
    "### Séries\n",
    "\n",
    "Uma Series é uma coluna de dados unidimensional, semelhante a um array de NumPy, mas com rótulos (índices) associados a cada valor. A Series pode armazenar qualquer tipo de dado, como inteiros, floats, strings, ou objetos."
   ]
  },
  {
   "cell_type": "code",
   "execution_count": 51,
   "id": "fcdfed4c-f563-4880-bc72-947135d9fe25",
   "metadata": {},
   "outputs": [
    {
     "name": "stdout",
     "output_type": "stream",
     "text": [
      "a    1\n",
      "b    2\n",
      "c    3\n",
      "d    4\n",
      "e    5\n",
      "dtype: int64\n",
      "2\n"
     ]
    }
   ],
   "source": [
    "import pandas as pd\n",
    "\n",
    "# Criando uma Series\n",
    "s = pd.Series([1, 2, 3, 4, 5], index=['a', 'b', 'c', 'd', 'e'])\n",
    "print(s)\n",
    "\n",
    "# Acessando elementos por índice\n",
    "print(s['b'])  # Saída: 2\n"
   ]
  },
  {
   "cell_type": "markdown",
   "id": "aab471d1-4fb1-4a0f-811b-e871a3eae5f4",
   "metadata": {},
   "source": [
    "### DataFrame\n",
    "\n",
    "O DataFrame é a estrutura de dados mais importante do Pandas. Ele é uma tabela bidimensional (semelhante a uma planilha ou tabela SQL) com rótulos para as linhas e colunas. Cada coluna de um DataFrame é uma Series, e as colunas podem ter diferentes tipos de dados."
   ]
  },
  {
   "cell_type": "code",
   "execution_count": 52,
   "id": "ee17eb63-6f9c-4d82-b9d3-7b8b9670c94a",
   "metadata": {},
   "outputs": [
    {
     "name": "stdout",
     "output_type": "stream",
     "text": [
      "    Nome  Idade          Cidade\n",
      "0    Ana     23       São Paulo\n",
      "1  Pedro     34  Rio de Janeiro\n",
      "2   João     19        Curitiba\n"
     ]
    }
   ],
   "source": [
    "# Criando um DataFrame a partir de um dicionário\n",
    "dados = {\n",
    "    'Nome': ['Ana', 'Pedro', 'João'],\n",
    "    'Idade': [23, 34, 19],\n",
    "    'Cidade': ['São Paulo', 'Rio de Janeiro', 'Curitiba']\n",
    "}\n",
    "\n",
    "df = pd.DataFrame(dados)\n",
    "print(df)\n"
   ]
  },
  {
   "cell_type": "markdown",
   "id": "0d3b2276-1fcb-4a56-950b-b025bc23e0b2",
   "metadata": {},
   "source": [
    "### Operações Essenciais com DataFrames\n",
    "1. Selecionar Colunas\n",
    "2. Filtragem de Dados\n",
    "3. Alteração de Dados\n",
    "4. Agrupamento e Agregação\n",
    "5. Tratamento de Dados Faltantes"
   ]
  },
  {
   "cell_type": "code",
   "execution_count": 53,
   "id": "9f994e8c-0e29-4924-83fe-40b768ebc39f",
   "metadata": {},
   "outputs": [
    {
     "name": "stdout",
     "output_type": "stream",
     "text": [
      "0      Ana\n",
      "1    Pedro\n",
      "2     João\n",
      "Name: Nome, dtype: object\n"
     ]
    }
   ],
   "source": [
    "# Selecionando uma única coluna\n",
    "print(df['Nome'])"
   ]
  },
  {
   "cell_type": "code",
   "execution_count": 54,
   "id": "a230008d-8416-48b7-8e0a-5760f1a42628",
   "metadata": {},
   "outputs": [
    {
     "name": "stdout",
     "output_type": "stream",
     "text": [
      "    Nome          Cidade\n",
      "0    Ana       São Paulo\n",
      "1  Pedro  Rio de Janeiro\n",
      "2   João        Curitiba\n"
     ]
    }
   ],
   "source": [
    "# Selecionando múltiplas colunas\n",
    "print(df[['Nome', 'Cidade']])"
   ]
  },
  {
   "cell_type": "code",
   "execution_count": 55,
   "id": "aeaac4b4-d9bb-4b51-a941-f08a1df05554",
   "metadata": {},
   "outputs": [
    {
     "name": "stdout",
     "output_type": "stream",
     "text": [
      "    Nome  Idade          Cidade\n",
      "0    Ana     23       São Paulo\n",
      "1  Pedro     34  Rio de Janeiro\n"
     ]
    }
   ],
   "source": [
    "# Filtrando o DataFrame para mostrar apenas pessoas com mais de 20 anos\n",
    "filtro = df[df['Idade'] > 20]\n",
    "print(filtro)\n"
   ]
  },
  {
   "cell_type": "code",
   "execution_count": 56,
   "id": "8a3946b4-84f5-42aa-a6a7-38429472b4f1",
   "metadata": {},
   "outputs": [],
   "source": [
    "# Alterando o valor de uma célula\n",
    "df.loc[0, 'Idade'] = 24\n",
    "# Alterando uma coluna inteira\n",
    "df['Idade'] = df['Idade'] + 1"
   ]
  },
  {
   "cell_type": "code",
   "execution_count": 57,
   "id": "219859ff-78bb-4b0d-83a6-c11c0760c28e",
   "metadata": {},
   "outputs": [
    {
     "name": "stdout",
     "output_type": "stream",
     "text": [
      "Cidade\n",
      "Curitiba          20.0\n",
      "Rio de Janeiro    35.0\n",
      "São Paulo         25.0\n",
      "Name: Idade, dtype: float64\n"
     ]
    }
   ],
   "source": [
    "# Agrupando por 'Cidade' e calculando a média de 'Idade'\n",
    "agrupado = df.groupby('Cidade')['Idade'].mean()\n",
    "print(agrupado)\n"
   ]
  },
  {
   "cell_type": "code",
   "execution_count": 58,
   "id": "a51a858c-8ada-4d87-b5d8-e2bb3008e47e",
   "metadata": {},
   "outputs": [
    {
     "name": "stdout",
     "output_type": "stream",
     "text": [
      "Nome      0\n",
      "Idade     0\n",
      "Cidade    0\n",
      "dtype: int64\n"
     ]
    },
    {
     "data": {
      "text/plain": [
       "0    25\n",
       "1    35\n",
       "2    20\n",
       "Name: Idade, dtype: int64"
      ]
     },
     "execution_count": 58,
     "metadata": {},
     "output_type": "execute_result"
    }
   ],
   "source": [
    "# Verificando valores faltantes\n",
    "print(df.isnull().sum())\n",
    "\n",
    "# Removendo linhas com dados faltantes\n",
    "df_limpo = df.dropna()\n",
    "\n",
    "# Preenchendo valores faltantes\n",
    "df['Idade'].fillna(df['Idade'].mean())\n"
   ]
  },
  {
   "cell_type": "markdown",
   "id": "442a0869-860d-4629-a113-2f851a4afa83",
   "metadata": {},
   "source": [
    "### Estatísticas e Operações com Dados\n",
    "\n",
    "Pandas facilita o cálculo de estatísticas descritivas, como média, desvio padrão, contagem, entre outras."
   ]
  },
  {
   "cell_type": "code",
   "execution_count": 59,
   "id": "5f2987a3-7f20-4323-af3c-3a180b9e52b9",
   "metadata": {},
   "outputs": [
    {
     "name": "stdout",
     "output_type": "stream",
     "text": [
      "           Idade\n",
      "count   3.000000\n",
      "mean   26.666667\n",
      "std     7.637626\n",
      "min    20.000000\n",
      "25%    22.500000\n",
      "50%    25.000000\n",
      "75%    30.000000\n",
      "max    35.000000\n"
     ]
    }
   ],
   "source": [
    "# Estatísticas descritivas\n",
    "print(df.describe())"
   ]
  },
  {
   "cell_type": "code",
   "execution_count": 60,
   "id": "56d8c466-9072-475b-8c9d-6375b853694f",
   "metadata": {},
   "outputs": [
    {
     "name": "stdout",
     "output_type": "stream",
     "text": [
      "80\n",
      "3\n",
      "26.666666666666668\n"
     ]
    }
   ],
   "source": [
    "# Soma, contagem e média de colunas específicas\n",
    "print(df['Idade'].sum())\n",
    "print(df['Idade'].count())\n",
    "print(df['Idade'].mean())"
   ]
  },
  {
   "cell_type": "markdown",
   "id": "6eb082c8-3479-487d-a6f5-a497b79933b6",
   "metadata": {},
   "source": [
    "## Matplotlib: Biblioteca de Visualização de Dados em Python\n",
    "\n",
    "Matplotlib é uma biblioteca poderosa e flexível para visualização de dados em Python. Ela permite criar uma ampla gama de gráficos, desde simples gráficos de linha até visualizações complexas e altamente customizadas. Embora outras bibliotecas como Seaborn ou Plotly sejam populares para visualizações avançadas, Matplotlib continua sendo o núcleo para muitas dessas bibliotecas e é amplamente utilizado por sua versatilidade e integração com NumPy e Pandas.\n",
    "\n",
    "A maneira mais comum de usar Matplotlib é através do submódulo pyplot, que fornece uma interface simples para criar gráficos. A estrutura básica de um gráfico com pyplot envolve definir os dados e criar o gráfico com funções que controlam o comportamento do gráfico."
   ]
  },
  {
   "cell_type": "code",
   "execution_count": 61,
   "id": "cea88a8c-319d-4941-94ba-84c660332a13",
   "metadata": {},
   "outputs": [
    {
     "data": {
      "image/png": "[encoded data removed]",
      "text/plain": [
       "<Figure size 640x480 with 1 Axes>"
      ]
     },
     "metadata": {},
     "output_type": "display_data"
    }
   ],
   "source": [
    "import matplotlib.pyplot as plt\n",
    "\n",
    "# Dados\n",
    "x = [0, 1, 2, 3, 4]\n",
    "y = [0, 1, 4, 9, 16]\n",
    "\n",
    "# Criando um gráfico de linha\n",
    "plt.plot(x, y)\n",
    "\n",
    "# Adicionando título e rótulos aos eixos\n",
    "plt.title('Gráfico de Quadrados')\n",
    "plt.xlabel('Eixo X')\n",
    "plt.ylabel('Eixo Y')\n",
    "\n",
    "# Exibindo o gráfico\n",
    "plt.show()\n"
   ]
  },
  {
   "cell_type": "markdown",
   "id": "7ab399c0-b48b-4d43-8ab3-17217436b46b",
   "metadata": {},
   "source": [
    "### Tipos de Gráficos Comuns\n",
    "\n",
    "#### Linha"
   ]
  },
  {
   "cell_type": "code",
   "execution_count": 62,
   "id": "7a24edc7-eb89-48b8-bc80-ff0bba646b1b",
   "metadata": {},
   "outputs": [
    {
     "data": {
      "image/png": "[encoded data removed]",
      "text/plain": [
       "<Figure size 640x480 with 1 Axes>"
      ]
     },
     "metadata": {},
     "output_type": "display_data"
    }
   ],
   "source": [
    "x = [0, 1, 2, 3, 4]\n",
    "y = [0, 1, 4, 9, 16]\n",
    "plt.plot(x, y)\n",
    "plt.title('Gráfico de Linha')\n",
    "plt.show()\n"
   ]
  },
  {
   "cell_type": "markdown",
   "id": "1fd20df3-ed13-44f0-b4f3-c411c866849b",
   "metadata": {},
   "source": [
    "#### Dispersão"
   ]
  },
  {
   "cell_type": "code",
   "execution_count": 63,
   "id": "8da9e389-315a-49cd-928b-931cb73ec9f1",
   "metadata": {},
   "outputs": [
    {
     "data": {
      "image/png": "[encoded data removed]",
      "text/plain": [
       "<Figure size 640x480 with 1 Axes>"
      ]
     },
     "metadata": {},
     "output_type": "display_data"
    }
   ],
   "source": [
    "plt.scatter(x, y)\n",
    "plt.title('Gráfico de Dispersão')\n",
    "plt.show()\n"
   ]
  },
  {
   "cell_type": "markdown",
   "id": "5ee52126-8626-4dd9-a311-ec3b934efe07",
   "metadata": {},
   "source": [
    "#### Barras"
   ]
  },
  {
   "cell_type": "code",
   "execution_count": 64,
   "id": "95d96a66-4373-4867-9312-9d371a1c0995",
   "metadata": {
    "scrolled": true
   },
   "outputs": [
    {
     "data": {
      "image/png": "[encoded data removed]",
      "text/plain": [
       "<Figure size 640x480 with 1 Axes>"
      ]
     },
     "metadata": {},
     "output_type": "display_data"
    }
   ],
   "source": [
    "categorias = ['A', 'B', 'C']\n",
    "valores = [5, 7, 3]\n",
    "plt.bar(categorias, valores)\n",
    "plt.title('Gráfico de Barras')\n",
    "plt.show()\n"
   ]
  },
  {
   "cell_type": "markdown",
   "id": "f830e4ad-ae7f-4ca6-ba49-3c8e96dcf461",
   "metadata": {},
   "source": [
    "#### Histograma"
   ]
  },
  {
   "cell_type": "code",
   "execution_count": 65,
   "id": "c7c7800f-cc8e-471b-96f1-af86fe23dd6c",
   "metadata": {},
   "outputs": [
    {
     "data": {
      "image/png": "[encoded data removed]",
      "text/plain": [
       "<Figure size 640x480 with 1 Axes>"
      ]
     },
     "metadata": {},
     "output_type": "display_data"
    }
   ],
   "source": [
    "import numpy as np\n",
    "\n",
    "dados = np.random.randn(1000)\n",
    "plt.hist(dados, bins=30, color='skyblue', edgecolor='black')\n",
    "plt.title('Histograma de Dados Aleatórios')\n",
    "plt.show()\n"
   ]
  },
  {
   "cell_type": "markdown",
   "id": "0d8e50d9-26a6-4600-8e9f-978daccfa2c1",
   "metadata": {},
   "source": [
    "#### Pizza"
   ]
  },
  {
   "cell_type": "code",
   "execution_count": 66,
   "id": "4d9bad85-a9d5-4914-b63d-c3983d788ffe",
   "metadata": {},
   "outputs": [
    {
     "data": {
      "image/png": "[encoded data removed]",
      "text/plain": [
       "<Figure size 640x480 with 1 Axes>"
      ]
     },
     "metadata": {},
     "output_type": "display_data"
    }
   ],
   "source": [
    "tamanhos = [15, 30, 45, 10]\n",
    "labels = ['A', 'B', 'C', 'D']\n",
    "plt.pie(tamanhos, labels=labels, autopct='%1.1f%%')\n",
    "plt.title('Gráfico de Pizza')\n",
    "plt.show()\n"
   ]
  },
  {
   "cell_type": "markdown",
   "id": "b7788ed9-9dbe-4720-8ccc-9fafe48a2cc8",
   "metadata": {},
   "source": [
    "### Customização"
   ]
  },
  {
   "cell_type": "markdown",
   "id": "c20ac8ad-9209-4beb-be33-7eceaebd2114",
   "metadata": {},
   "source": [
    "#### Alterando Cores e Estilos de Linha\n"
   ]
  },
  {
   "cell_type": "code",
   "execution_count": 67,
   "id": "e330b630-98be-4ffe-b46a-f960174fd65d",
   "metadata": {},
   "outputs": [
    {
     "data": {
      "image/png": "[encoded data removed]",
      "text/plain": [
       "<Figure size 640x480 with 1 Axes>"
      ]
     },
     "metadata": {},
     "output_type": "display_data"
    }
   ],
   "source": [
    "plt.plot(x, y, color='red', linestyle='--', marker='o')  # Linha vermelha com marcador\n",
    "plt.title('Gráfico Customizado')\n",
    "plt.show()\n"
   ]
  },
  {
   "cell_type": "markdown",
   "id": "bf35375e-7d2c-43fe-8a4a-eaca92afe15a",
   "metadata": {},
   "source": [
    "#### Adicionando Títulos e Rótulos aos Eixos"
   ]
  },
  {
   "cell_type": "code",
   "execution_count": 68,
   "id": "b8e6dc5a-0de7-42ca-a4b0-d1f3d6ef0948",
   "metadata": {},
   "outputs": [
    {
     "data": {
      "image/png": "[encoded data removed]",
      "text/plain": [
       "<Figure size 640x480 with 1 Axes>"
      ]
     },
     "metadata": {},
     "output_type": "display_data"
    }
   ],
   "source": [
    "plt.plot(x, y)\n",
    "plt.title('Título do Gráfico')\n",
    "plt.xlabel('Eixo X')\n",
    "plt.ylabel('Eixo Y')\n",
    "plt.show()\n"
   ]
  },
  {
   "cell_type": "markdown",
   "id": "4d2560a0-1d28-44eb-91a3-0f84a49f8bef",
   "metadata": {},
   "source": [
    "#### Legendas"
   ]
  },
  {
   "cell_type": "code",
   "execution_count": 69,
   "id": "0d07be22-0933-4da9-b28f-941005a41220",
   "metadata": {},
   "outputs": [
    {
     "data": {
      "image/png": "[encoded data removed]",
      "text/plain": [
       "<Figure size 640x480 with 1 Axes>"
      ]
     },
     "metadata": {},
     "output_type": "display_data"
    }
   ],
   "source": [
    "plt.plot(x, y, label='Quadrados')\n",
    "plt.plot(x, [i**3 for i in x], label='Cubos')\n",
    "plt.title('Gráfico com Legenda')\n",
    "plt.legend()  # Adiciona legenda\n",
    "plt.show()\n"
   ]
  },
  {
   "cell_type": "markdown",
   "id": "e7b03b9d-6b36-494e-89de-faf7a90204c6",
   "metadata": {},
   "source": [
    "#### Ajustando os Eixos"
   ]
  },
  {
   "cell_type": "code",
   "execution_count": 70,
   "id": "fd5438c3-7658-4144-8ba8-24b48d8748bd",
   "metadata": {},
   "outputs": [
    {
     "data": {
      "image/png": "[encoded data removed]",
      "text/plain": [
       "<Figure size 640x480 with 1 Axes>"
      ]
     },
     "metadata": {},
     "output_type": "display_data"
    }
   ],
   "source": [
    "plt.plot(x, y)\n",
    "plt.xlim(0, 5)\n",
    "plt.ylim(0, 20)\n",
    "plt.title('Ajuste de Eixos')\n",
    "plt.show()\n"
   ]
  },
  {
   "cell_type": "markdown",
   "id": "885f6469-fa1c-44d6-9641-ad91118c1320",
   "metadata": {},
   "source": [
    "#### Subplot"
   ]
  },
  {
   "cell_type": "code",
   "execution_count": 71,
   "id": "4aa9c396-0597-42cc-ac78-31a2fdd8ee7c",
   "metadata": {},
   "outputs": [
    {
     "data": {
      "image/png": "[encoded data removed]",
      "text/plain": [
       "<Figure size 1000x400 with 2 Axes>"
      ]
     },
     "metadata": {},
     "output_type": "display_data"
    }
   ],
   "source": [
    "# Criando uma figura com dois gráficos lado a lado\n",
    "plt.figure(figsize=(10, 4))\n",
    "\n",
    "plt.subplot(1, 2, 1)  # 1 linha, 2 colunas, 1º gráfico\n",
    "plt.plot(x, y)\n",
    "plt.title('Gráfico de Linha')\n",
    "\n",
    "plt.subplot(1, 2, 2)  # 1 linha, 2 colunas, 2º gráfico\n",
    "plt.bar(categorias, valores)\n",
    "plt.title('Gráfico de Barras')\n",
    "\n",
    "plt.tight_layout()\n",
    "plt.show()\n"
   ]
  },
  {
   "cell_type": "markdown",
   "id": "bc76736a-61fa-4f48-8d7f-54d2da8b5e0e",
   "metadata": {},
   "source": [
    "#### Integração com Pandas"
   ]
  },
  {
   "cell_type": "code",
   "execution_count": 72,
   "id": "df923d26-d8f6-4b62-9253-7685cb788328",
   "metadata": {},
   "outputs": [
    {
     "data": {
      "image/png": "[encoded data removed]",
      "text/plain": [
       "<Figure size 640x480 with 1 Axes>"
      ]
     },
     "metadata": {},
     "output_type": "display_data"
    }
   ],
   "source": [
    "import pandas as pd\n",
    "\n",
    "# Criando um DataFrame\n",
    "dados = {\n",
    "    'Dia': [1, 2, 3, 4, 5],\n",
    "    'Vendas': [200, 300, 250, 400, 350]\n",
    "}\n",
    "df = pd.DataFrame(dados)\n",
    "\n",
    "# Plotando os dados\n",
    "df.plot(x='Dia', y='Vendas', kind='line')\n",
    "plt.title('Vendas ao Longo dos Dias')\n",
    "plt.show()\n"
   ]
  },
  {
   "cell_type": "markdown",
   "id": "43dd3b1e-584b-4871-858c-629ea99e4710",
   "metadata": {},
   "source": [
    "## Exercícios\n",
    "\n",
    "### Exercício 1.\n",
    "Execute as seguintes operações no Python e interprete os resultados:\n",
    "\n",
    "- Use a função `math.log()` para calcular o logaritmo natural de 10 e depois o logaritmo na base 10 de 1000.\n",
    "- Descubra a função que calcula a raiz quadrada de um número utilizando a função `help()`, e aplique-a ao número 144.\n",
    "\n",
    "### Exercício 2.\n",
    "Armazene o resultado de `2 * 7` em uma variável chamada `resultado`. Use `resultado` para calcular o valor de `resultado ** 2`.\n",
    "\n",
    "Liste todas as variáveis no ambiente do Python usando a função `globals()`. Exclua a variável `resultado` usando `del` e verifique novamente as variáveis presentes.\n",
    "\n",
    "### Exercício 3.\n",
    "Crie um vetor NumPy `v` contendo os números 4, 8, 15, 16, 23, 42. Use subsetting para selecionar:\n",
    "- O segundo e o quarto elemento.\n",
    "- Todos os elementos exceto o terceiro.\n",
    "- Os elementos que são maiores que 10.\n",
    "\n",
    "Multiplique cada elemento do vetor NumPy `v` por 2 e armazene o resultado em um novo vetor `v2`.\n",
    "\n",
    "### Exercício 4.\n",
    "Verifique se `8 > 5` e se `8 == 10`.\n",
    "\n",
    "Crie dois vetores NumPy lógicos `a = np.array([True, False, True])` e `b = np.array([False, True, False])`. Aplique os operadores `&`, `|` e `np.logical_xor()` nesses vetores.\n",
    "\n",
    "### Exercício 5.\n",
    "Escreva uma função `soma_quadrados` que receba dois números como argumentos e retorne a soma de seus quadrados. Teste sua função com os números 3 e 4.\n",
    "\n",
    "Modifique a função `soma_quadrados` para que o segundo argumento tenha um valor padrão de 2. Teste a função chamando-a com apenas um argumento.\n",
    "\n",
    "### Exercício 6.\n",
    "Escreva um laço `for` que calcule a soma dos números de 1 a 100.\n",
    "\n",
    "Crie um laço `while` que multiplique os números de 1 a 6 e retorne o resultado.\n",
    "\n",
    "### Exercício 7.\n",
    "Crie duas variáveis com o seu primeiro e último nome. Use a função `f-string` para juntar as duas variáveis em uma frase que diga “Meu nome completo é [nome completo]”.\n",
    "\n",
    "Altere o separador para um traço `-` e junte novamente as variáveis.\n",
    "\n",
    "### Exercício 8.\n",
    "Crie um DataFrame com os dados fictícios a seguir utilizando `pandas`:\n",
    "\n",
    "| Nome  | Idade | Cidade      |\n",
    "|-------|-------|-------------|\n",
    "| Ana   | 23    | São Paulo   |\n",
    "| Pedro | 34    | Rio de Janeiro |\n",
    "| João  | 19    | Curitiba    |\n",
    "\n",
    "Filtre as observações onde a idade é maior que 20.\n",
    "\n",
    "Ordene o DataFrame pela coluna `Idade` em ordem decrescente.\n",
    "\n",
    "### Exercício 9.\n",
    "Usando o DataFrame criado no exercício anterior, crie um gráfico de barras (`plt.bar`) que mostre a idade de cada pessoa.\n",
    "\n",
    "No gráfico anterior, mude a cor de cada barra.\n",
    "\n",
    "### Exercício 10.\n",
    "Crie um DataFrame com os dados de temperatura de uma semana:\n",
    "\n",
    "| Dia   | Temperatura (°C) |\n",
    "|-------|------------------|\n",
    "| Seg   | 22               |\n",
    "| Ter   | 24               |\n",
    "| Qua   | 19               |\n",
    "| Qui   | 21               |\n",
    "| Sex   | 23               |\n",
    "| Sáb   | 25               |\n",
    "| Dom   | 20               |\n",
    "\n",
    "Agora, responda às perguntas abaixo:\n",
    "1. Filtre todos os dias em que a temperatura foi maior que 21°C.\n",
    "2. Calcule a média das temperaturas da semana.\n",
    "3. Crie um gráfico de linha (`plt.plot`) que mostre a variação da temperatura ao longo da semana.\n"
   ]
  },
  {
   "cell_type": "code",
   "execution_count": null,
   "id": "090bb73d-42d5-46ba-9901-ba6c2590f3f5",
   "metadata": {},
   "outputs": [],
   "source": []
  }
 ],
 "metadata": {
  "kernelspec": {
   "display_name": "Python 3 (ipykernel)",
   "language": "python",
   "name": "python3"
  },
  "language_info": {
   "codemirror_mode": {
    "name": "ipython",
    "version": 3
   },
   "file_extension": ".py",
   "mimetype": "text/x-python",
   "name": "python",
   "nbconvert_exporter": "python",
   "pygments_lexer": "ipython3",
   "version": "3.10.12"
  }
 },
 "nbformat": 4,
 "nbformat_minor": 5
}
