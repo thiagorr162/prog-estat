{
 "cells": [
  {
   "cell_type": "markdown",
   "id": "e926f27d-ee18-466a-8b1e-3505acb34824",
   "metadata": {},
   "source": [
    "---\n",
    "title: \"Breve introdução ao Python\"\n",
    "---"
   ]
  },
  {
   "cell_type": "markdown",
   "id": "07a1d82d-266e-43f1-8ae4-39eccdd76a64",
   "metadata": {},
   "source": [
    "Aqui faremos uma breve introdução ao Python. Para uma introdução mais detalhada, você pode explorar:\n",
    "- [Documentação Oficial do Python](https://docs.python.org/3/)\n",
    "- [Real Python](https://realpython.com/)\n",
    "\n"
   ]
  },
  {
   "cell_type": "markdown",
   "id": "11640b4e-0db6-424f-ba08-cf1babfb1b6d",
   "metadata": {},
   "source": [
    "## Variáveis e Tipos de Dados \n",
    "\n",
    "Em Python, variáveis são usadas para armazenar informações que podem ser manipuladas ao longo do código. Existem diferentes tipos de dados que podem ser atribuídos a uma variável. Vamos explorar os principais tipos básicos em Python: `int`, `float`, `str`, `bool`, e `None`.\n"
   ]
  },
  {
   "cell_type": "code",
   "execution_count": 4,
   "id": "0a573f36-a0b9-449c-9c69-53c5e8119364",
   "metadata": {},
   "outputs": [
    {
     "name": "stdout",
     "output_type": "stream",
     "text": [
      "Nome: Thiago (Tipo: <class 'str'>)\n",
      "Idade: 35 (Tipo: <class 'int'>)\n",
      "Saldo Bancário: 1023.75 (Tipo: <class 'float'>)\n",
      "Estudante: True (Tipo: <class 'bool'>)\n",
      "Endereço: None (Tipo: <class 'NoneType'>)\n"
     ]
    }
   ],
   "source": [
    "# Exemplo de variáveis e tipos de dados\n",
    "nome = \"Thiago\"              # String\n",
    "idade = 35                   # Inteiro (int)\n",
    "saldo_bancario = 1023.75      # Float\n",
    "estudante = True              # Booleano (bool)\n",
    "endereco = None               # None, indicando ausência de valor\n",
    "\n",
    "print(f\"Nome: {nome} (Tipo: {type(nome)})\")\n",
    "print(f\"Idade: {idade} (Tipo: {type(idade)})\")\n",
    "print(f\"Saldo Bancário: {saldo_bancario} (Tipo: {type(saldo_bancario)})\")\n",
    "print(f\"Estudante: {estudante} (Tipo: {type(estudante)})\")\n",
    "print(f\"Endereço: {endereco} (Tipo: {type(endereco)})\")\n"
   ]
  },
  {
   "cell_type": "markdown",
   "id": "4d6cd4a8-6821-464a-94b5-31f511569bae",
   "metadata": {},
   "source": [
    "### O Comando help() em Python\n",
    "\n",
    "Python possui uma função embutida chamada help(), que é muito útil para obter informações sobre funções, módulos, objetos, e classes. Ele fornece uma explicação detalhada de como determinado elemento funciona, quais parâmetros aceita e o que retorna, entre outros detalhes. Essa função é especialmente útil quando você está começando ou precisa de uma rápida referência sem ter que sair do ambiente de desenvolvimento."
   ]
  },
  {
   "cell_type": "code",
   "execution_count": 5,
   "id": "6646ba31-b21f-407c-a06a-6d50dfb54681",
   "metadata": {},
   "outputs": [
    {
     "name": "stdout",
     "output_type": "stream",
     "text": [
      "Help on built-in function len in module builtins:\n",
      "\n",
      "len(obj, /)\n",
      "    Return the number of items in a container.\n",
      "\n"
     ]
    }
   ],
   "source": [
    "help(len)"
   ]
  },
  {
   "cell_type": "code",
   "execution_count": 7,
   "id": "9e082c8c-593d-4f5d-926a-5e7ba8665796",
   "metadata": {},
   "outputs": [
    {
     "name": "stdout",
     "output_type": "stream",
     "text": [
      "Help on function exemplo in module __main__:\n",
      "\n",
      "exemplo()\n",
      "    Esta é uma função de exemplo.\n",
      "\n"
     ]
    }
   ],
   "source": [
    "def exemplo():\n",
    "    \"\"\"Esta é uma função de exemplo.\"\"\"\n",
    "    pass\n",
    "\n",
    "help(exemplo)"
   ]
  },
  {
   "cell_type": "markdown",
   "id": "0d1bac77-ff9e-415a-b11c-4d06ea2c4472",
   "metadata": {},
   "source": [
    "## Armazenando Resultados em Variáveis\n",
    "\n",
    "Em Python, as variáveis são usadas para armazenar resultados de cálculos ou operações para uso posterior no código. Ao armazenar um valor em uma variável, você pode acessá-lo facilmente quando precisar, sem ter que repetir o cálculo ou operação.\n",
    "\n",
    "Quando você atribui um valor ou resultado de uma operação a uma variável, o Python guarda esse valor na memória e o associa ao nome que você escolheu para a variável. Isso permite que você reutilize o valor sempre que necessário."
   ]
  },
  {
   "cell_type": "code",
   "execution_count": 8,
   "id": "1c798023-b0df-4ba6-bf50-03e37ebc491c",
   "metadata": {},
   "outputs": [
    {
     "name": "stdout",
     "output_type": "stream",
     "text": [
      "8\n"
     ]
    }
   ],
   "source": [
    "resultado = 5 + 3  # Armazenando a soma de 5 e 3 em uma variável\n",
    "print(resultado)    # Resultado: 8\n"
   ]
  },
  {
   "cell_type": "code",
   "execution_count": 10,
   "id": "5c3dd5e3-307a-40fb-83ba-52e5a642cc56",
   "metadata": {},
   "outputs": [
    {
     "name": "stdout",
     "output_type": "stream",
     "text": [
      "5\n"
     ]
    }
   ],
   "source": [
    "x = 2 + 3\n",
    "print(x)"
   ]
  },
  {
   "cell_type": "code",
   "execution_count": 11,
   "id": "86773ebb-4b86-44d4-925f-80e264c7f3f2",
   "metadata": {},
   "outputs": [
    {
     "data": {
      "text/plain": [
       "10"
      ]
     },
     "execution_count": 11,
     "metadata": {},
     "output_type": "execute_result"
    }
   ],
   "source": [
    "y = 2 * x\n",
    "y"
   ]
  },
  {
   "cell_type": "markdown",
   "id": "a894bf10-97a6-49b1-bee1-7233b5d3a7fe",
   "metadata": {
    "jp-MarkdownHeadingCollapsed": true
   },
   "source": [
    "**OBS:** Em Python, o operador ^ não é usado para exponenciação. Em vez disso, ele é o operador bitwise XOR (ou exclusivo) para manipulação de bits.\n",
    "\n",
    "O operador XOR (ou exclusivo) compara os bits de dois números. Ele retorna 1 quando os bits são diferentes e 0 quando os bits são iguais."
   ]
  },
  {
   "cell_type": "code",
   "execution_count": 19,
   "id": "932aaa0e-5e3f-414b-b893-481be82e6f89",
   "metadata": {},
   "outputs": [
    {
     "name": "stdout",
     "output_type": "stream",
     "text": [
      "125\n"
     ]
    }
   ],
   "source": [
    "a = 5   # Em binário: 101\n",
    "b = 3   # Em binário: 011\n",
    "\n",
    "resultado = a ** b  # Faz XOR bit a bit\n",
    "\n",
    "print(resultado)  # Saída: 6 (Em binário: 110)"
   ]
  },
  {
   "cell_type": "code",
   "execution_count": 20,
   "id": "9935443a-b1cd-4583-8900-7b4cf344ab02",
   "metadata": {},
   "outputs": [
    {
     "name": "stdout",
     "output_type": "stream",
     "text": [
      "6\n"
     ]
    }
   ],
   "source": [
    "a = 5   # Em binário: 101\n",
    "b = 3   # Em binário: 011\n",
    "\n",
    "resultado = a ^ b  # Faz XOR bit a bit\n",
    "\n",
    "print(resultado)  # Saída: 6 (Em binário: 110)"
   ]
  },
  {
   "cell_type": "code",
   "execution_count": null,
   "id": "553ee558-c2ee-4417-83dc-ddf92d0b6004",
   "metadata": {},
   "outputs": [],
   "source": []
  }
 ],
 "metadata": {
  "kernelspec": {
   "display_name": "Python 3 (ipykernel)",
   "language": "python",
   "name": "python3"
  },
  "language_info": {
   "codemirror_mode": {
    "name": "ipython",
    "version": 3
   },
   "file_extension": ".py",
   "mimetype": "text/x-python",
   "name": "python",
   "nbconvert_exporter": "python",
   "pygments_lexer": "ipython3",
   "version": "3.10.12"
  }
 },
 "nbformat": 4,
 "nbformat_minor": 5
}
